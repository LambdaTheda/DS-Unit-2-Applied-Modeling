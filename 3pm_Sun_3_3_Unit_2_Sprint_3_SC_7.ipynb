{
  "nbformat": 4,
  "nbformat_minor": 0,
  "metadata": {
    "kernelspec": {
      "display_name": "Python 3",
      "language": "python",
      "name": "python3"
    },
    "language_info": {
      "codemirror_mode": {
        "name": "ipython",
        "version": 3
      },
      "file_extension": ".py",
      "mimetype": "text/x-python",
      "name": "python",
      "nbconvert_exporter": "python",
      "pygments_lexer": "ipython3",
      "version": "3.7.2"
    },
    "colab": {
      "name": "3pm Sun 3/3 Unit 2 Sprint 3-SC-7.ipynb",
      "provenance": [],
      "collapsed_sections": [],
      "include_colab_link": true
    }
  },
  "cells": [
    {
      "cell_type": "markdown",
      "metadata": {
        "id": "view-in-github",
        "colab_type": "text"
      },
      "source": [
        "<a href=\"https://colab.research.google.com/github/LambdaTheda/DS-Unit-2-Applied-Modeling/blob/master/3pm_Sun_3_3_Unit_2_Sprint_3_SC_7.ipynb\" target=\"_parent\"><img src=\"https://colab.research.google.com/assets/colab-badge.svg\" alt=\"Open In Colab\"/></a>"
      ]
    },
    {
      "cell_type": "markdown",
      "metadata": {
        "colab_type": "text",
        "id": "Kz9V5lVFMo86"
      },
      "source": [
        "_Lambda School Data Science, Unit 2_\n",
        "\n",
        "# Applied Modeling Sprint Challenge: Predict Chicago food inspections 🍕"
      ]
    },
    {
      "cell_type": "markdown",
      "metadata": {
        "colab_type": "text",
        "id": "yWOjtM9iMo87"
      },
      "source": [
        "For this Sprint Challenge, you'll use a dataset with information from inspections of restaurants and other food establishments in Chicago from January 2010 to March 2019. \n",
        "\n",
        "[See this PDF](https://data.cityofchicago.org/api/assets/BAD5301B-681A-4202-9D25-51B2CAE672FF) for descriptions of the data elements included in this dataset.\n",
        "\n",
        "According to [Chicago Department of Public Health — Food Protection Services](https://www.chicago.gov/city/en/depts/cdph/provdrs/healthy_restaurants/svcs/food-protection-services.html), \"Chicago is home to 16,000 food establishments like restaurants, grocery stores, bakeries, wholesalers, lunchrooms, mobile food vendors and more. Our business is food safety and sanitation with one goal, to prevent the spread of food-borne disease. We do this by inspecting food businesses, responding to complaints and food recalls.\" "
      ]
    },
    {
      "cell_type": "markdown",
      "metadata": {
        "colab_type": "text",
        "id": "VvBYdx2xMo88"
      },
      "source": [
        "#### Your challenge: Predict whether inspections failed\n",
        "\n",
        "The target is the `Fail` column.\n",
        "\n",
        "- When the food establishment failed the inspection, the target is `1`.\n",
        "- When the establishment passed, the target is `0`."
      ]
    },
    {
      "cell_type": "markdown",
      "metadata": {
        "colab_type": "text",
        "id": "3YMtu4LaF8Jq"
      },
      "source": [
        "#### Run this cell to install packages in Colab:"
      ]
    },
    {
      "cell_type": "code",
      "metadata": {
        "colab_type": "code",
        "id": "vWyiJKQgF6ax",
        "colab": {}
      },
      "source": [
        "%%capture\n",
        "import sys\n",
        "\n",
        "if 'google.colab' in sys.modules:\n",
        "    # Install packages in Colab\n",
        "    !pip install category_encoders==2.*\n",
        "    !pip install eli5\n",
        "    !pip install pandas-profiling==2.*\n",
        "    !pip install pdpbox\n",
        "    !pip install shap"
      ],
      "execution_count": 0,
      "outputs": []
    },
    {
      "cell_type": "markdown",
      "metadata": {
        "colab_type": "text",
        "id": "Na5IvRq1Mo89"
      },
      "source": [
        "#### Run this cell to load the data:"
      ]
    },
    {
      "cell_type": "code",
      "metadata": {
        "colab_type": "code",
        "id": "Yyc7zftTMo89",
        "colab": {}
      },
      "source": [
        "import pandas as pd\n",
        "\n",
        "train_url = 'https://drive.google.com/uc?export=download&id=13_tP9JpLcZHSPVpWcua4t2rY44K_s4H5'\n",
        "test_url  = 'https://drive.google.com/uc?export=download&id=1GkDHjsiGrzOXoF_xcYjdzBTSjOIi3g5a'\n",
        "\n",
        "train = pd.read_csv(train_url)\n",
        "test  = pd.read_csv(test_url)\n",
        "\n",
        "assert train.shape == (51916, 17)\n",
        "assert test.shape  == (17306, 17)"
      ],
      "execution_count": 0,
      "outputs": []
    },
    {
      "cell_type": "markdown",
      "metadata": {
        "colab_type": "text",
        "id": "8EhbzqgfMo9A"
      },
      "source": [
        "### Part 1: Preprocessing\n",
        "\n",
        "You may choose which features you want to use, and whether/how you will preprocess them. If you use categorical features, you may use any tools and techniques for encoding.\n",
        "\n",
        "_To earn a score of 3 for this part, find and explain leakage. The dataset has a feature that will give you an ROC AUC score > 0.90 if you process and use the feature. Find the leakage and explain why the feature shouldn't be used in a real-world model to predict the results of future inspections._\n",
        "\n",
        "### Part 2: Modeling\n",
        "\n",
        "**Fit a model** with the train set. (You may use scikit-learn, xgboost, or any other library.) Use cross-validation or do a three-way split (train/validate/test) and **estimate your ROC AUC** validation score.\n",
        "\n",
        "Use your model to **predict probabilities** for the test set. **Get an ROC AUC test score >= 0.60.**\n",
        "\n",
        "_To earn a score of 3 for this part, get an ROC AUC test score >= 0.70 (without using the feature with leakage)._\n",
        "\n",
        "\n",
        "### Part 3: Visualization\n",
        "\n",
        "Make visualizations for model interpretation. (You may use any libraries.) Choose two of these types:\n",
        "\n",
        "- Confusion Matrix\n",
        "- Permutation Importances\n",
        "- Partial Dependence Plot, 1 feature isolation\n",
        "- Partial Dependence Plot, 2 features interaction\n",
        "- Shapley Values\n",
        "\n",
        "_To earn a score of 3 for this part, make four of these visualization types._"
      ]
    },
    {
      "cell_type": "markdown",
      "metadata": {
        "colab_type": "text",
        "id": "muEIQ4EPGVH_"
      },
      "source": [
        "## Part 1: Preprocessing\n",
        "\n",
        "> You may choose which features you want to use, and whether/how you will preprocess them. If you use categorical features, you may use any tools and techniques for encoding."
      ]
    },
    {
      "cell_type": "markdown",
      "metadata": {
        "id": "yNqMAAZk-PGi",
        "colab_type": "text"
      },
      "source": [
        "### Describe  Test, Train datasets"
      ]
    },
    {
      "cell_type": "code",
      "metadata": {
        "colab_type": "code",
        "id": "Ao1PDJtpIWwp",
        "outputId": "2bd70892-1064-4001-e863-a726416b6b62",
        "colab": {
          "base_uri": "https://localhost:8080/",
          "height": 325
        }
      },
      "source": [
        "train.describe()"
      ],
      "execution_count": 0,
      "outputs": [
        {
          "output_type": "execute_result",
          "data": {
            "text/html": [
              "<div>\n",
              "<style scoped>\n",
              "    .dataframe tbody tr th:only-of-type {\n",
              "        vertical-align: middle;\n",
              "    }\n",
              "\n",
              "    .dataframe tbody tr th {\n",
              "        vertical-align: top;\n",
              "    }\n",
              "\n",
              "    .dataframe thead th {\n",
              "        text-align: right;\n",
              "    }\n",
              "</style>\n",
              "<table border=\"1\" class=\"dataframe\">\n",
              "  <thead>\n",
              "    <tr style=\"text-align: right;\">\n",
              "      <th></th>\n",
              "      <th>Inspection ID</th>\n",
              "      <th>License #</th>\n",
              "      <th>Zip</th>\n",
              "      <th>Latitude</th>\n",
              "      <th>Longitude</th>\n",
              "      <th>Fail</th>\n",
              "    </tr>\n",
              "  </thead>\n",
              "  <tbody>\n",
              "    <tr>\n",
              "      <th>count</th>\n",
              "      <td>5.191600e+04</td>\n",
              "      <td>5.191100e+04</td>\n",
              "      <td>51890.000000</td>\n",
              "      <td>51718.000000</td>\n",
              "      <td>51718.000000</td>\n",
              "      <td>51916.000000</td>\n",
              "    </tr>\n",
              "    <tr>\n",
              "      <th>mean</th>\n",
              "      <td>1.330265e+06</td>\n",
              "      <td>1.549491e+06</td>\n",
              "      <td>60628.834669</td>\n",
              "      <td>41.879568</td>\n",
              "      <td>-87.676663</td>\n",
              "      <td>0.258610</td>\n",
              "    </tr>\n",
              "    <tr>\n",
              "      <th>std</th>\n",
              "      <td>6.202664e+05</td>\n",
              "      <td>9.018283e+05</td>\n",
              "      <td>22.736963</td>\n",
              "      <td>0.081126</td>\n",
              "      <td>0.059509</td>\n",
              "      <td>0.437875</td>\n",
              "    </tr>\n",
              "    <tr>\n",
              "      <th>min</th>\n",
              "      <td>4.425000e+04</td>\n",
              "      <td>0.000000e+00</td>\n",
              "      <td>60007.000000</td>\n",
              "      <td>41.644670</td>\n",
              "      <td>-87.914428</td>\n",
              "      <td>0.000000</td>\n",
              "    </tr>\n",
              "    <tr>\n",
              "      <th>25%</th>\n",
              "      <td>6.796205e+05</td>\n",
              "      <td>1.140745e+06</td>\n",
              "      <td>60614.000000</td>\n",
              "      <td>41.830296</td>\n",
              "      <td>-87.707857</td>\n",
              "      <td>0.000000</td>\n",
              "    </tr>\n",
              "    <tr>\n",
              "      <th>50%</th>\n",
              "      <td>1.424226e+06</td>\n",
              "      <td>1.958619e+06</td>\n",
              "      <td>60625.000000</td>\n",
              "      <td>41.890166</td>\n",
              "      <td>-87.666524</td>\n",
              "      <td>0.000000</td>\n",
              "    </tr>\n",
              "    <tr>\n",
              "      <th>75%</th>\n",
              "      <td>1.946952e+06</td>\n",
              "      <td>2.215507e+06</td>\n",
              "      <td>60643.000000</td>\n",
              "      <td>41.939167</td>\n",
              "      <td>-87.634461</td>\n",
              "      <td>1.000000</td>\n",
              "    </tr>\n",
              "    <tr>\n",
              "      <th>max</th>\n",
              "      <td>2.279709e+06</td>\n",
              "      <td>8.700606e+06</td>\n",
              "      <td>60827.000000</td>\n",
              "      <td>42.021064</td>\n",
              "      <td>-87.525094</td>\n",
              "      <td>1.000000</td>\n",
              "    </tr>\n",
              "  </tbody>\n",
              "</table>\n",
              "</div>"
            ],
            "text/plain": [
              "       Inspection ID     License #  ...     Longitude          Fail\n",
              "count   5.191600e+04  5.191100e+04  ...  51718.000000  51916.000000\n",
              "mean    1.330265e+06  1.549491e+06  ...    -87.676663      0.258610\n",
              "std     6.202664e+05  9.018283e+05  ...      0.059509      0.437875\n",
              "min     4.425000e+04  0.000000e+00  ...    -87.914428      0.000000\n",
              "25%     6.796205e+05  1.140745e+06  ...    -87.707857      0.000000\n",
              "50%     1.424226e+06  1.958619e+06  ...    -87.666524      0.000000\n",
              "75%     1.946952e+06  2.215507e+06  ...    -87.634461      1.000000\n",
              "max     2.279709e+06  8.700606e+06  ...    -87.525094      1.000000\n",
              "\n",
              "[8 rows x 6 columns]"
            ]
          },
          "metadata": {
            "tags": []
          },
          "execution_count": 4
        }
      ]
    },
    {
      "cell_type": "code",
      "metadata": {
        "id": "C_WqAiBt_g4V",
        "colab_type": "code",
        "outputId": "83058454-4a3f-48b3-faab-51f5582b8194",
        "colab": {
          "base_uri": "https://localhost:8080/",
          "height": 325
        }
      },
      "source": [
        "test.describe()"
      ],
      "execution_count": 0,
      "outputs": [
        {
          "output_type": "execute_result",
          "data": {
            "text/html": [
              "<div>\n",
              "<style scoped>\n",
              "    .dataframe tbody tr th:only-of-type {\n",
              "        vertical-align: middle;\n",
              "    }\n",
              "\n",
              "    .dataframe tbody tr th {\n",
              "        vertical-align: top;\n",
              "    }\n",
              "\n",
              "    .dataframe thead th {\n",
              "        text-align: right;\n",
              "    }\n",
              "</style>\n",
              "<table border=\"1\" class=\"dataframe\">\n",
              "  <thead>\n",
              "    <tr style=\"text-align: right;\">\n",
              "      <th></th>\n",
              "      <th>Inspection ID</th>\n",
              "      <th>License #</th>\n",
              "      <th>Zip</th>\n",
              "      <th>Latitude</th>\n",
              "      <th>Longitude</th>\n",
              "      <th>Fail</th>\n",
              "    </tr>\n",
              "  </thead>\n",
              "  <tbody>\n",
              "    <tr>\n",
              "      <th>count</th>\n",
              "      <td>1.730600e+04</td>\n",
              "      <td>1.730400e+04</td>\n",
              "      <td>17298.000000</td>\n",
              "      <td>17245.000000</td>\n",
              "      <td>17245.000000</td>\n",
              "      <td>17306.000000</td>\n",
              "    </tr>\n",
              "    <tr>\n",
              "      <th>mean</th>\n",
              "      <td>1.323403e+06</td>\n",
              "      <td>1.562543e+06</td>\n",
              "      <td>60628.920338</td>\n",
              "      <td>41.879518</td>\n",
              "      <td>-87.676646</td>\n",
              "      <td>0.258581</td>\n",
              "    </tr>\n",
              "    <tr>\n",
              "      <th>std</th>\n",
              "      <td>6.240521e+05</td>\n",
              "      <td>8.947393e+05</td>\n",
              "      <td>23.462366</td>\n",
              "      <td>0.080895</td>\n",
              "      <td>0.059617</td>\n",
              "      <td>0.437867</td>\n",
              "    </tr>\n",
              "    <tr>\n",
              "      <th>min</th>\n",
              "      <td>4.426100e+04</td>\n",
              "      <td>0.000000e+00</td>\n",
              "      <td>60007.000000</td>\n",
              "      <td>41.644670</td>\n",
              "      <td>-87.914428</td>\n",
              "      <td>0.000000</td>\n",
              "    </tr>\n",
              "    <tr>\n",
              "      <th>25%</th>\n",
              "      <td>6.709562e+05</td>\n",
              "      <td>1.145506e+06</td>\n",
              "      <td>60614.000000</td>\n",
              "      <td>41.830619</td>\n",
              "      <td>-87.708016</td>\n",
              "      <td>0.000000</td>\n",
              "    </tr>\n",
              "    <tr>\n",
              "      <th>50%</th>\n",
              "      <td>1.418794e+06</td>\n",
              "      <td>1.964748e+06</td>\n",
              "      <td>60625.000000</td>\n",
              "      <td>41.890300</td>\n",
              "      <td>-87.666898</td>\n",
              "      <td>0.000000</td>\n",
              "    </tr>\n",
              "    <tr>\n",
              "      <th>75%</th>\n",
              "      <td>1.946488e+06</td>\n",
              "      <td>2.208688e+06</td>\n",
              "      <td>60643.000000</td>\n",
              "      <td>41.938989</td>\n",
              "      <td>-87.634501</td>\n",
              "      <td>1.000000</td>\n",
              "    </tr>\n",
              "    <tr>\n",
              "      <th>max</th>\n",
              "      <td>2.279564e+06</td>\n",
              "      <td>3.759896e+06</td>\n",
              "      <td>60827.000000</td>\n",
              "      <td>42.021064</td>\n",
              "      <td>-87.525872</td>\n",
              "      <td>1.000000</td>\n",
              "    </tr>\n",
              "  </tbody>\n",
              "</table>\n",
              "</div>"
            ],
            "text/plain": [
              "       Inspection ID     License #  ...     Longitude          Fail\n",
              "count   1.730600e+04  1.730400e+04  ...  17245.000000  17306.000000\n",
              "mean    1.323403e+06  1.562543e+06  ...    -87.676646      0.258581\n",
              "std     6.240521e+05  8.947393e+05  ...      0.059617      0.437867\n",
              "min     4.426100e+04  0.000000e+00  ...    -87.914428      0.000000\n",
              "25%     6.709562e+05  1.145506e+06  ...    -87.708016      0.000000\n",
              "50%     1.418794e+06  1.964748e+06  ...    -87.666898      0.000000\n",
              "75%     1.946488e+06  2.208688e+06  ...    -87.634501      1.000000\n",
              "max     2.279564e+06  3.759896e+06  ...    -87.525872      1.000000\n",
              "\n",
              "[8 rows x 6 columns]"
            ]
          },
          "metadata": {
            "tags": []
          },
          "execution_count": 5
        }
      ]
    },
    {
      "cell_type": "markdown",
      "metadata": {
        "id": "b5u1qthJ-dh3",
        "colab_type": "text"
      },
      "source": [
        "### Peek at First 5 Rows of Test, Train datasets"
      ]
    },
    {
      "cell_type": "code",
      "metadata": {
        "id": "HndYgkx5_qU9",
        "colab_type": "code",
        "outputId": "12a9004d-8746-4336-9bf9-1e43c6f18031",
        "colab": {
          "base_uri": "https://localhost:8080/",
          "height": 581
        }
      },
      "source": [
        "train.head()"
      ],
      "execution_count": 0,
      "outputs": [
        {
          "output_type": "execute_result",
          "data": {
            "text/html": [
              "<div>\n",
              "<style scoped>\n",
              "    .dataframe tbody tr th:only-of-type {\n",
              "        vertical-align: middle;\n",
              "    }\n",
              "\n",
              "    .dataframe tbody tr th {\n",
              "        vertical-align: top;\n",
              "    }\n",
              "\n",
              "    .dataframe thead th {\n",
              "        text-align: right;\n",
              "    }\n",
              "</style>\n",
              "<table border=\"1\" class=\"dataframe\">\n",
              "  <thead>\n",
              "    <tr style=\"text-align: right;\">\n",
              "      <th></th>\n",
              "      <th>Inspection ID</th>\n",
              "      <th>DBA Name</th>\n",
              "      <th>AKA Name</th>\n",
              "      <th>License #</th>\n",
              "      <th>Facility Type</th>\n",
              "      <th>Risk</th>\n",
              "      <th>Address</th>\n",
              "      <th>City</th>\n",
              "      <th>State</th>\n",
              "      <th>Zip</th>\n",
              "      <th>Inspection Date</th>\n",
              "      <th>Inspection Type</th>\n",
              "      <th>Violations</th>\n",
              "      <th>Latitude</th>\n",
              "      <th>Longitude</th>\n",
              "      <th>Location</th>\n",
              "      <th>Fail</th>\n",
              "    </tr>\n",
              "  </thead>\n",
              "  <tbody>\n",
              "    <tr>\n",
              "      <th>0</th>\n",
              "      <td>2088270</td>\n",
              "      <td>TOM YUM RICE &amp; NOODLE, INC.</td>\n",
              "      <td>TOM YUM CAFE</td>\n",
              "      <td>2354911.0</td>\n",
              "      <td>Restaurant</td>\n",
              "      <td>Risk 1 (High)</td>\n",
              "      <td>608 W BARRY</td>\n",
              "      <td>CHICAGO</td>\n",
              "      <td>IL</td>\n",
              "      <td>60657.0</td>\n",
              "      <td>2017-09-15T00:00:00</td>\n",
              "      <td>Canvass</td>\n",
              "      <td>3. POTENTIALLY HAZARDOUS FOOD MEETS TEMPERATUR...</td>\n",
              "      <td>41.938007</td>\n",
              "      <td>-87.644755</td>\n",
              "      <td>{'longitude': '-87.6447545707008', 'latitude':...</td>\n",
              "      <td>1</td>\n",
              "    </tr>\n",
              "    <tr>\n",
              "      <th>1</th>\n",
              "      <td>555268</td>\n",
              "      <td>FILLING STATION  &amp; CONVENIENCE  STORE</td>\n",
              "      <td>FILLING STATION  &amp; CONVENIENCE  STORE</td>\n",
              "      <td>1044901.0</td>\n",
              "      <td>Grocery Store</td>\n",
              "      <td>Risk 3 (Low)</td>\n",
              "      <td>6646-6658 S WESTERN AVE</td>\n",
              "      <td>CHICAGO</td>\n",
              "      <td>IL</td>\n",
              "      <td>60636.0</td>\n",
              "      <td>2011-10-20T00:00:00</td>\n",
              "      <td>Complaint Re-Inspection</td>\n",
              "      <td>32. FOOD AND NON-FOOD CONTACT SURFACES PROPERL...</td>\n",
              "      <td>41.772402</td>\n",
              "      <td>-87.683603</td>\n",
              "      <td>{'longitude': '-87.68360273081268', 'latitude'...</td>\n",
              "      <td>0</td>\n",
              "    </tr>\n",
              "    <tr>\n",
              "      <th>2</th>\n",
              "      <td>1751394</td>\n",
              "      <td>A P DELI</td>\n",
              "      <td>A P DELI</td>\n",
              "      <td>47405.0</td>\n",
              "      <td>Restaurant</td>\n",
              "      <td>Risk 1 (High)</td>\n",
              "      <td>2025 E 75TH ST</td>\n",
              "      <td>CHICAGO</td>\n",
              "      <td>IL</td>\n",
              "      <td>60649.0</td>\n",
              "      <td>2016-04-05T00:00:00</td>\n",
              "      <td>Canvass Re-Inspection</td>\n",
              "      <td>35. WALLS, CEILINGS, ATTACHED EQUIPMENT CONSTR...</td>\n",
              "      <td>41.758779</td>\n",
              "      <td>-87.575054</td>\n",
              "      <td>{'longitude': '-87.57505446746121', 'latitude'...</td>\n",
              "      <td>0</td>\n",
              "    </tr>\n",
              "    <tr>\n",
              "      <th>3</th>\n",
              "      <td>1763905</td>\n",
              "      <td>FRANK'S CHICAGO SHRIMP HOUSE</td>\n",
              "      <td>FRANK'S CHICAGO SHRIMP HOUSE</td>\n",
              "      <td>6414.0</td>\n",
              "      <td>Restaurant</td>\n",
              "      <td>Risk 2 (Medium)</td>\n",
              "      <td>4459 S ARCHER AVE</td>\n",
              "      <td>CHICAGO</td>\n",
              "      <td>IL</td>\n",
              "      <td>60632.0</td>\n",
              "      <td>2016-04-29T00:00:00</td>\n",
              "      <td>Canvass</td>\n",
              "      <td>38. VENTILATION: ROOMS AND EQUIPMENT VENTED AS...</td>\n",
              "      <td>41.812181</td>\n",
              "      <td>-87.707125</td>\n",
              "      <td>{'longitude': '-87.70712481334274', 'latitude'...</td>\n",
              "      <td>0</td>\n",
              "    </tr>\n",
              "    <tr>\n",
              "      <th>4</th>\n",
              "      <td>453326</td>\n",
              "      <td>MORRILL</td>\n",
              "      <td>MORRILL</td>\n",
              "      <td>24571.0</td>\n",
              "      <td>School</td>\n",
              "      <td>Risk 1 (High)</td>\n",
              "      <td>6011 S Rockwell (2600W) AVE</td>\n",
              "      <td>CHICAGO</td>\n",
              "      <td>IL</td>\n",
              "      <td>60629.0</td>\n",
              "      <td>2011-01-10T00:00:00</td>\n",
              "      <td>Canvass</td>\n",
              "      <td>34. FLOORS: CONSTRUCTED PER CODE, CLEANED, GOO...</td>\n",
              "      <td>NaN</td>\n",
              "      <td>NaN</td>\n",
              "      <td>NaN</td>\n",
              "      <td>0</td>\n",
              "    </tr>\n",
              "  </tbody>\n",
              "</table>\n",
              "</div>"
            ],
            "text/plain": [
              "   Inspection ID  ... Fail\n",
              "0        2088270  ...    1\n",
              "1         555268  ...    0\n",
              "2        1751394  ...    0\n",
              "3        1763905  ...    0\n",
              "4         453326  ...    0\n",
              "\n",
              "[5 rows x 17 columns]"
            ]
          },
          "metadata": {
            "tags": []
          },
          "execution_count": 6
        }
      ]
    },
    {
      "cell_type": "code",
      "metadata": {
        "id": "h4yC9NEw_vof",
        "colab_type": "code",
        "outputId": "38452251-ca8f-4310-9b23-ce236eb27b56",
        "colab": {
          "base_uri": "https://localhost:8080/",
          "height": 581
        }
      },
      "source": [
        "test.head()"
      ],
      "execution_count": 0,
      "outputs": [
        {
          "output_type": "execute_result",
          "data": {
            "text/html": [
              "<div>\n",
              "<style scoped>\n",
              "    .dataframe tbody tr th:only-of-type {\n",
              "        vertical-align: middle;\n",
              "    }\n",
              "\n",
              "    .dataframe tbody tr th {\n",
              "        vertical-align: top;\n",
              "    }\n",
              "\n",
              "    .dataframe thead th {\n",
              "        text-align: right;\n",
              "    }\n",
              "</style>\n",
              "<table border=\"1\" class=\"dataframe\">\n",
              "  <thead>\n",
              "    <tr style=\"text-align: right;\">\n",
              "      <th></th>\n",
              "      <th>Inspection ID</th>\n",
              "      <th>DBA Name</th>\n",
              "      <th>AKA Name</th>\n",
              "      <th>License #</th>\n",
              "      <th>Facility Type</th>\n",
              "      <th>Risk</th>\n",
              "      <th>Address</th>\n",
              "      <th>City</th>\n",
              "      <th>State</th>\n",
              "      <th>Zip</th>\n",
              "      <th>Inspection Date</th>\n",
              "      <th>Inspection Type</th>\n",
              "      <th>Violations</th>\n",
              "      <th>Latitude</th>\n",
              "      <th>Longitude</th>\n",
              "      <th>Location</th>\n",
              "      <th>Fail</th>\n",
              "    </tr>\n",
              "  </thead>\n",
              "  <tbody>\n",
              "    <tr>\n",
              "      <th>0</th>\n",
              "      <td>114835</td>\n",
              "      <td>7 - ELEVEN</td>\n",
              "      <td>7 - ELEVEN</td>\n",
              "      <td>46907.0</td>\n",
              "      <td>Grocery Store</td>\n",
              "      <td>Risk 2 (Medium)</td>\n",
              "      <td>600 S DEARBORN</td>\n",
              "      <td>CHICAGO</td>\n",
              "      <td>IL</td>\n",
              "      <td>60605.0</td>\n",
              "      <td>2011-03-22T00:00:00</td>\n",
              "      <td>Canvass</td>\n",
              "      <td>33. FOOD AND NON-FOOD CONTACT EQUIPMENT UTENSI...</td>\n",
              "      <td>41.874481</td>\n",
              "      <td>-87.629357</td>\n",
              "      <td>{'longitude': '-87.62935653990546', 'latitude'...</td>\n",
              "      <td>0</td>\n",
              "    </tr>\n",
              "    <tr>\n",
              "      <th>1</th>\n",
              "      <td>1575555</td>\n",
              "      <td>TAQUERIA LOS GALLOS INC</td>\n",
              "      <td>TAQUERIA LOS GALLOS</td>\n",
              "      <td>1044860.0</td>\n",
              "      <td>Restaurant</td>\n",
              "      <td>Risk 1 (High)</td>\n",
              "      <td>4209-4211 W 26TH ST</td>\n",
              "      <td>CHICAGO</td>\n",
              "      <td>IL</td>\n",
              "      <td>60623.0</td>\n",
              "      <td>2015-09-15T00:00:00</td>\n",
              "      <td>Canvass</td>\n",
              "      <td>30. FOOD IN ORIGINAL CONTAINER, PROPERLY LABEL...</td>\n",
              "      <td>41.844070</td>\n",
              "      <td>-87.729807</td>\n",
              "      <td>{'longitude': '-87.72980747367433', 'latitude'...</td>\n",
              "      <td>0</td>\n",
              "    </tr>\n",
              "    <tr>\n",
              "      <th>2</th>\n",
              "      <td>671061</td>\n",
              "      <td>TROTTER'S TO GO</td>\n",
              "      <td>TROTTER'S TO GO</td>\n",
              "      <td>1092634.0</td>\n",
              "      <td>Restaurant</td>\n",
              "      <td>Risk 1 (High)</td>\n",
              "      <td>1337 W FULLERTON AVE</td>\n",
              "      <td>CHICAGO</td>\n",
              "      <td>IL</td>\n",
              "      <td>60614.0</td>\n",
              "      <td>2012-03-02T00:00:00</td>\n",
              "      <td>Canvass</td>\n",
              "      <td>34. FLOORS: CONSTRUCTED PER CODE, CLEANED, GOO...</td>\n",
              "      <td>41.925128</td>\n",
              "      <td>-87.662041</td>\n",
              "      <td>{'longitude': '-87.66204067083224', 'latitude'...</td>\n",
              "      <td>0</td>\n",
              "    </tr>\n",
              "    <tr>\n",
              "      <th>3</th>\n",
              "      <td>1965844</td>\n",
              "      <td>BIG G'S PIZZA</td>\n",
              "      <td>BIG G'S PIZZA</td>\n",
              "      <td>2334691.0</td>\n",
              "      <td>Restaurant</td>\n",
              "      <td>Risk 1 (High)</td>\n",
              "      <td>1132 W TAYLOR ST</td>\n",
              "      <td>CHICAGO</td>\n",
              "      <td>IL</td>\n",
              "      <td>60607.0</td>\n",
              "      <td>2016-10-04T00:00:00</td>\n",
              "      <td>Canvass Re-Inspection</td>\n",
              "      <td>14. PREVIOUS SERIOUS VIOLATION CORRECTED, 7-42...</td>\n",
              "      <td>41.869546</td>\n",
              "      <td>-87.655501</td>\n",
              "      <td>{'longitude': '-87.65550098867566', 'latitude'...</td>\n",
              "      <td>1</td>\n",
              "    </tr>\n",
              "    <tr>\n",
              "      <th>4</th>\n",
              "      <td>1751669</td>\n",
              "      <td>SOUTH CENTRAL COMMUNITY SERVICES ELEMENTARY</td>\n",
              "      <td>SOUTH CENTRAL COMMUNITY SERVICES ELEMENTARY</td>\n",
              "      <td>3491970.0</td>\n",
              "      <td>School</td>\n",
              "      <td>Risk 2 (Medium)</td>\n",
              "      <td>1021 E 83RD</td>\n",
              "      <td>CHICAGO</td>\n",
              "      <td>IL</td>\n",
              "      <td>60619.0</td>\n",
              "      <td>2016-04-08T00:00:00</td>\n",
              "      <td>Canvass</td>\n",
              "      <td>18. NO EVIDENCE OF RODENT OR INSECT OUTER OPEN...</td>\n",
              "      <td>41.743933</td>\n",
              "      <td>-87.599291</td>\n",
              "      <td>{'longitude': '-87.59929083361996', 'latitude'...</td>\n",
              "      <td>1</td>\n",
              "    </tr>\n",
              "  </tbody>\n",
              "</table>\n",
              "</div>"
            ],
            "text/plain": [
              "   Inspection ID  ... Fail\n",
              "0         114835  ...    0\n",
              "1        1575555  ...    0\n",
              "2         671061  ...    0\n",
              "3        1965844  ...    1\n",
              "4        1751669  ...    1\n",
              "\n",
              "[5 rows x 17 columns]"
            ]
          },
          "metadata": {
            "tags": []
          },
          "execution_count": 7
        }
      ]
    },
    {
      "cell_type": "markdown",
      "metadata": {
        "id": "Ysr8CK-B-rLk",
        "colab_type": "text"
      },
      "source": [
        "### Check for Nulls in Test, Train datasets"
      ]
    },
    {
      "cell_type": "code",
      "metadata": {
        "id": "3FOPqsdaABHT",
        "colab_type": "code",
        "outputId": "c9b7f32e-cadd-4843-c4fd-951309f144e8",
        "colab": {
          "base_uri": "https://localhost:8080/",
          "height": 328
        }
      },
      "source": [
        "train.isnull().sum()"
      ],
      "execution_count": 0,
      "outputs": [
        {
          "output_type": "execute_result",
          "data": {
            "text/plain": [
              "Inspection ID         0\n",
              "DBA Name              0\n",
              "AKA Name            623\n",
              "License #             5\n",
              "Facility Type       224\n",
              "Risk                 12\n",
              "Address               0\n",
              "City                 53\n",
              "State                10\n",
              "Zip                  26\n",
              "Inspection Date       0\n",
              "Inspection Type       1\n",
              "Violations         9655\n",
              "Latitude            198\n",
              "Longitude           198\n",
              "Location            198\n",
              "Fail                  0\n",
              "dtype: int64"
            ]
          },
          "metadata": {
            "tags": []
          },
          "execution_count": 8
        }
      ]
    },
    {
      "cell_type": "code",
      "metadata": {
        "id": "TwbwbzXcAWe3",
        "colab_type": "code",
        "outputId": "73717b47-a63f-4242-bdf4-0b5c6f7ec254",
        "colab": {
          "base_uri": "https://localhost:8080/",
          "height": 328
        }
      },
      "source": [
        "test.isnull().sum()"
      ],
      "execution_count": 0,
      "outputs": [
        {
          "output_type": "execute_result",
          "data": {
            "text/plain": [
              "Inspection ID         0\n",
              "DBA Name              0\n",
              "AKA Name            222\n",
              "License #             2\n",
              "Facility Type        87\n",
              "Risk                  7\n",
              "Address               0\n",
              "City                 18\n",
              "State                 2\n",
              "Zip                   8\n",
              "Inspection Date       0\n",
              "Inspection Type       0\n",
              "Violations         3280\n",
              "Latitude             61\n",
              "Longitude            61\n",
              "Location             61\n",
              "Fail                  0\n",
              "dtype: int64"
            ]
          },
          "metadata": {
            "tags": []
          },
          "execution_count": 9
        }
      ]
    },
    {
      "cell_type": "markdown",
      "metadata": {
        "id": "gKMCiDMqnQ9z",
        "colab_type": "text"
      },
      "source": [
        "### Check target 'Fail' Distribution"
      ]
    },
    {
      "cell_type": "code",
      "metadata": {
        "id": "ico0KzmzLws2",
        "colab_type": "code",
        "outputId": "31516ce1-2bb5-4dfc-ae2f-f8dff77c3ede",
        "colab": {
          "base_uri": "https://localhost:8080/",
          "height": 377
        }
      },
      "source": [
        "(train['Fail'].map({0: 'Passed', 1: 'Failed'}).value_counts(normalize=True) * 100)\\\n",
        "  .plot.bar(title='Percentages of Inspection Results', figsize=(10, 5))"
      ],
      "execution_count": 0,
      "outputs": [
        {
          "output_type": "execute_result",
          "data": {
            "text/plain": [
              "<matplotlib.axes._subplots.AxesSubplot at 0x7f0f314edf28>"
            ]
          },
          "metadata": {
            "tags": []
          },
          "execution_count": 10
        },
        {
          "output_type": "display_data",
          "data": {
            "image/png": "[encoded data removed]",
            "text/plain": [
              "<Figure size 720x360 with 1 Axes>"
            ]
          },
          "metadata": {
            "tags": [],
            "needs_background": "light"
          }
        }
      ]
    },
    {
      "cell_type": "markdown",
      "metadata": {
        "id": "CGoEib9dUb7q",
        "colab_type": "text"
      },
      "source": [
        "The plot clearly shows this is an imbalanced class (binary) Classification problem."
      ]
    },
    {
      "cell_type": "markdown",
      "metadata": {
        "id": "ElsvV_AHVOkG",
        "colab_type": "text"
      },
      "source": [
        "### Exploratory Data Analysis & Cleaning"
      ]
    },
    {
      "cell_type": "code",
      "metadata": {
        "id": "qmaEH4DtEUzz",
        "colab_type": "code",
        "outputId": "7aa9154c-91f5-4940-e302-25ceca90f3c8",
        "colab": {
          "base_uri": "https://localhost:8080/",
          "height": 1000
        }
      },
      "source": [
        "# Drop 'AKA Name' column in train set since I will use the \"DBA Name\" column and the former has nulls while the latter does not,\n",
        "# and both serve similar enough functions as a business identifier for my purposes\n",
        "train = train.drop(columns=['AKA Name'])\n",
        "train"
      ],
      "execution_count": 0,
      "outputs": [
        {
          "output_type": "execute_result",
          "data": {
            "text/html": [
              "<div>\n",
              "<style scoped>\n",
              "    .dataframe tbody tr th:only-of-type {\n",
              "        vertical-align: middle;\n",
              "    }\n",
              "\n",
              "    .dataframe tbody tr th {\n",
              "        vertical-align: top;\n",
              "    }\n",
              "\n",
              "    .dataframe thead th {\n",
              "        text-align: right;\n",
              "    }\n",
              "</style>\n",
              "<table border=\"1\" class=\"dataframe\">\n",
              "  <thead>\n",
              "    <tr style=\"text-align: right;\">\n",
              "      <th></th>\n",
              "      <th>Inspection ID</th>\n",
              "      <th>DBA Name</th>\n",
              "      <th>License #</th>\n",
              "      <th>Facility Type</th>\n",
              "      <th>Risk</th>\n",
              "      <th>Address</th>\n",
              "      <th>City</th>\n",
              "      <th>State</th>\n",
              "      <th>Zip</th>\n",
              "      <th>Inspection Date</th>\n",
              "      <th>Inspection Type</th>\n",
              "      <th>Violations</th>\n",
              "      <th>Latitude</th>\n",
              "      <th>Longitude</th>\n",
              "      <th>Location</th>\n",
              "      <th>Fail</th>\n",
              "    </tr>\n",
              "  </thead>\n",
              "  <tbody>\n",
              "    <tr>\n",
              "      <th>0</th>\n",
              "      <td>2088270</td>\n",
              "      <td>TOM YUM RICE &amp; NOODLE, INC.</td>\n",
              "      <td>2354911.0</td>\n",
              "      <td>Restaurant</td>\n",
              "      <td>Risk 1 (High)</td>\n",
              "      <td>608 W BARRY</td>\n",
              "      <td>CHICAGO</td>\n",
              "      <td>IL</td>\n",
              "      <td>60657.0</td>\n",
              "      <td>2017-09-15T00:00:00</td>\n",
              "      <td>Canvass</td>\n",
              "      <td>3. POTENTIALLY HAZARDOUS FOOD MEETS TEMPERATUR...</td>\n",
              "      <td>41.938007</td>\n",
              "      <td>-87.644755</td>\n",
              "      <td>{'longitude': '-87.6447545707008', 'latitude':...</td>\n",
              "      <td>1</td>\n",
              "    </tr>\n",
              "    <tr>\n",
              "      <th>1</th>\n",
              "      <td>555268</td>\n",
              "      <td>FILLING STATION  &amp; CONVENIENCE  STORE</td>\n",
              "      <td>1044901.0</td>\n",
              "      <td>Grocery Store</td>\n",
              "      <td>Risk 3 (Low)</td>\n",
              "      <td>6646-6658 S WESTERN AVE</td>\n",
              "      <td>CHICAGO</td>\n",
              "      <td>IL</td>\n",
              "      <td>60636.0</td>\n",
              "      <td>2011-10-20T00:00:00</td>\n",
              "      <td>Complaint Re-Inspection</td>\n",
              "      <td>32. FOOD AND NON-FOOD CONTACT SURFACES PROPERL...</td>\n",
              "      <td>41.772402</td>\n",
              "      <td>-87.683603</td>\n",
              "      <td>{'longitude': '-87.68360273081268', 'latitude'...</td>\n",
              "      <td>0</td>\n",
              "    </tr>\n",
              "    <tr>\n",
              "      <th>2</th>\n",
              "      <td>1751394</td>\n",
              "      <td>A P DELI</td>\n",
              "      <td>47405.0</td>\n",
              "      <td>Restaurant</td>\n",
              "      <td>Risk 1 (High)</td>\n",
              "      <td>2025 E 75TH ST</td>\n",
              "      <td>CHICAGO</td>\n",
              "      <td>IL</td>\n",
              "      <td>60649.0</td>\n",
              "      <td>2016-04-05T00:00:00</td>\n",
              "      <td>Canvass Re-Inspection</td>\n",
              "      <td>35. WALLS, CEILINGS, ATTACHED EQUIPMENT CONSTR...</td>\n",
              "      <td>41.758779</td>\n",
              "      <td>-87.575054</td>\n",
              "      <td>{'longitude': '-87.57505446746121', 'latitude'...</td>\n",
              "      <td>0</td>\n",
              "    </tr>\n",
              "    <tr>\n",
              "      <th>3</th>\n",
              "      <td>1763905</td>\n",
              "      <td>FRANK'S CHICAGO SHRIMP HOUSE</td>\n",
              "      <td>6414.0</td>\n",
              "      <td>Restaurant</td>\n",
              "      <td>Risk 2 (Medium)</td>\n",
              "      <td>4459 S ARCHER AVE</td>\n",
              "      <td>CHICAGO</td>\n",
              "      <td>IL</td>\n",
              "      <td>60632.0</td>\n",
              "      <td>2016-04-29T00:00:00</td>\n",
              "      <td>Canvass</td>\n",
              "      <td>38. VENTILATION: ROOMS AND EQUIPMENT VENTED AS...</td>\n",
              "      <td>41.812181</td>\n",
              "      <td>-87.707125</td>\n",
              "      <td>{'longitude': '-87.70712481334274', 'latitude'...</td>\n",
              "      <td>0</td>\n",
              "    </tr>\n",
              "    <tr>\n",
              "      <th>4</th>\n",
              "      <td>453326</td>\n",
              "      <td>MORRILL</td>\n",
              "      <td>24571.0</td>\n",
              "      <td>School</td>\n",
              "      <td>Risk 1 (High)</td>\n",
              "      <td>6011 S Rockwell (2600W) AVE</td>\n",
              "      <td>CHICAGO</td>\n",
              "      <td>IL</td>\n",
              "      <td>60629.0</td>\n",
              "      <td>2011-01-10T00:00:00</td>\n",
              "      <td>Canvass</td>\n",
              "      <td>34. FLOORS: CONSTRUCTED PER CODE, CLEANED, GOO...</td>\n",
              "      <td>NaN</td>\n",
              "      <td>NaN</td>\n",
              "      <td>NaN</td>\n",
              "      <td>0</td>\n",
              "    </tr>\n",
              "    <tr>\n",
              "      <th>...</th>\n",
              "      <td>...</td>\n",
              "      <td>...</td>\n",
              "      <td>...</td>\n",
              "      <td>...</td>\n",
              "      <td>...</td>\n",
              "      <td>...</td>\n",
              "      <td>...</td>\n",
              "      <td>...</td>\n",
              "      <td>...</td>\n",
              "      <td>...</td>\n",
              "      <td>...</td>\n",
              "      <td>...</td>\n",
              "      <td>...</td>\n",
              "      <td>...</td>\n",
              "      <td>...</td>\n",
              "      <td>...</td>\n",
              "    </tr>\n",
              "    <tr>\n",
              "      <th>51911</th>\n",
              "      <td>1370030</td>\n",
              "      <td>VANILLE PATTISSERIE</td>\n",
              "      <td>2129404.0</td>\n",
              "      <td>Grocery Store</td>\n",
              "      <td>Risk 2 (Medium)</td>\n",
              "      <td>131 N CLINTON ST</td>\n",
              "      <td>CHICAGO</td>\n",
              "      <td>IL</td>\n",
              "      <td>60661.0</td>\n",
              "      <td>2013-10-29T00:00:00</td>\n",
              "      <td>Canvass</td>\n",
              "      <td>NaN</td>\n",
              "      <td>41.884188</td>\n",
              "      <td>-87.641120</td>\n",
              "      <td>{'longitude': '-87.64111966683218', 'latitude'...</td>\n",
              "      <td>0</td>\n",
              "    </tr>\n",
              "    <tr>\n",
              "      <th>51912</th>\n",
              "      <td>579387</td>\n",
              "      <td>CHICAGO STEAK HOUSE</td>\n",
              "      <td>2079910.0</td>\n",
              "      <td>Restaurant</td>\n",
              "      <td>Risk 2 (Medium)</td>\n",
              "      <td>219 E 47TH ST</td>\n",
              "      <td>CHICAGO</td>\n",
              "      <td>IL</td>\n",
              "      <td>60653.0</td>\n",
              "      <td>2011-02-25T00:00:00</td>\n",
              "      <td>License Re-Inspection</td>\n",
              "      <td>NaN</td>\n",
              "      <td>41.809214</td>\n",
              "      <td>-87.620308</td>\n",
              "      <td>{'longitude': '-87.62030817634384', 'latitude'...</td>\n",
              "      <td>0</td>\n",
              "    </tr>\n",
              "    <tr>\n",
              "      <th>51913</th>\n",
              "      <td>2169678</td>\n",
              "      <td>JEWEL FOOD STORE #3043</td>\n",
              "      <td>1144384.0</td>\n",
              "      <td>Grocery Store</td>\n",
              "      <td>Risk 1 (High)</td>\n",
              "      <td>443 E 34TH ST</td>\n",
              "      <td>CHICAGO</td>\n",
              "      <td>IL</td>\n",
              "      <td>60616.0</td>\n",
              "      <td>2018-05-14T00:00:00</td>\n",
              "      <td>Canvass Re-Inspection</td>\n",
              "      <td>33. FOOD AND NON-FOOD CONTACT EQUIPMENT UTENSI...</td>\n",
              "      <td>41.833045</td>\n",
              "      <td>-87.614611</td>\n",
              "      <td>{'longitude': '-87.61461136443168', 'latitude'...</td>\n",
              "      <td>0</td>\n",
              "    </tr>\n",
              "    <tr>\n",
              "      <th>51914</th>\n",
              "      <td>1588969</td>\n",
              "      <td>RESTAURANTE SALVADORENO OLOCUILTA INC.</td>\n",
              "      <td>2308079.0</td>\n",
              "      <td>Restaurant</td>\n",
              "      <td>Risk 1 (High)</td>\n",
              "      <td>3040 N LARAMIE AVE</td>\n",
              "      <td>CHICAGO</td>\n",
              "      <td>IL</td>\n",
              "      <td>60641.0</td>\n",
              "      <td>2015-11-30T00:00:00</td>\n",
              "      <td>Canvass Re-Inspection</td>\n",
              "      <td>NaN</td>\n",
              "      <td>41.936300</td>\n",
              "      <td>-87.756750</td>\n",
              "      <td>{'longitude': '-87.75674980489909', 'latitude'...</td>\n",
              "      <td>0</td>\n",
              "    </tr>\n",
              "    <tr>\n",
              "      <th>51915</th>\n",
              "      <td>114560</td>\n",
              "      <td>BURRITO BEACH # 8</td>\n",
              "      <td>1491413.0</td>\n",
              "      <td>Restaurant</td>\n",
              "      <td>Risk 1 (High)</td>\n",
              "      <td>200 E OHIO ST</td>\n",
              "      <td>CHICAGO</td>\n",
              "      <td>IL</td>\n",
              "      <td>60611.0</td>\n",
              "      <td>2010-09-29T00:00:00</td>\n",
              "      <td>Canvass</td>\n",
              "      <td>33. FOOD AND NON-FOOD CONTACT EQUIPMENT UTENSI...</td>\n",
              "      <td>41.892671</td>\n",
              "      <td>-87.622572</td>\n",
              "      <td>{'longitude': '-87.62257220248128', 'latitude'...</td>\n",
              "      <td>0</td>\n",
              "    </tr>\n",
              "  </tbody>\n",
              "</table>\n",
              "<p>51916 rows × 16 columns</p>\n",
              "</div>"
            ],
            "text/plain": [
              "       Inspection ID  ... Fail\n",
              "0            2088270  ...    1\n",
              "1             555268  ...    0\n",
              "2            1751394  ...    0\n",
              "3            1763905  ...    0\n",
              "4             453326  ...    0\n",
              "...              ...  ...  ...\n",
              "51911        1370030  ...    0\n",
              "51912         579387  ...    0\n",
              "51913        2169678  ...    0\n",
              "51914        1588969  ...    0\n",
              "51915         114560  ...    0\n",
              "\n",
              "[51916 rows x 16 columns]"
            ]
          },
          "metadata": {
            "tags": []
          },
          "execution_count": 11
        }
      ]
    },
    {
      "cell_type": "markdown",
      "metadata": {
        "id": "-0K9XIligw5A",
        "colab_type": "text"
      },
      "source": [
        "Get counts of businesses with 'serious' level 'Violations,' as 'Violations' may be a significantly predictive feature.  The more/more serious violations a store has, the more likely it seems to reason- it would or could 'fail' an inspection."
      ]
    },
    {
      "cell_type": "code",
      "metadata": {
        "id": "jXGs3BLqCf4E",
        "colab_type": "code",
        "outputId": "8d967d26-afed-456a-be55-ba3672692578",
        "colab": {
          "base_uri": "https://localhost:8080/",
          "height": 69
        }
      },
      "source": [
        "import re # regex (regular expression) allows for string search/matching\n",
        "train[train['Violations'].fillna('').str.contains('serious', flags=re.I)]['Fail'].value_counts()"
      ],
      "execution_count": 0,
      "outputs": [
        {
          "output_type": "execute_result",
          "data": {
            "text/plain": [
              "1    8153\n",
              "0      24\n",
              "Name: Fail, dtype: int64"
            ]
          },
          "metadata": {
            "tags": []
          },
          "execution_count": 12
        }
      ]
    },
    {
      "cell_type": "markdown",
      "metadata": {
        "id": "8YHdf53aDyUF",
        "colab_type": "text"
      },
      "source": [
        "### Arrange X features matrices and y target vectors"
      ]
    },
    {
      "cell_type": "code",
      "metadata": {
        "id": "2WE56oV5D5t_",
        "colab_type": "code",
        "colab": {}
      },
      "source": [
        "# Train dataset\n",
        "X_train = train.drop(columns = 'Fail')\n",
        "y_train = train['Fail']\n",
        "\n",
        "# Test dataset\n",
        "X_test = test.drop(columns = 'Fail')\n",
        "y_test = test['Fail']\n"
      ],
      "execution_count": 0,
      "outputs": []
    },
    {
      "cell_type": "code",
      "metadata": {
        "id": "8EwXf7_rERDI",
        "colab_type": "code",
        "outputId": "1dc5f033-681e-4346-e319-9899a379c375",
        "colab": {
          "base_uri": "https://localhost:8080/",
          "height": 104
        }
      },
      "source": [
        "# check shapes of Train and Test\n",
        "print(f' X_train.shape: {X_train.shape}\\n X_test.shape:  {X_test.shape}\\n \\n y_train.shape: {y_train.shape} \\n y_test.shape:  {y_test.shape}')"
      ],
      "execution_count": 0,
      "outputs": [
        {
          "output_type": "stream",
          "text": [
            " X_train.shape: (51916, 15)\n",
            " X_test.shape:  (17306, 16)\n",
            " \n",
            " y_train.shape: (51916,) \n",
            " y_test.shape:  (17306,)\n"
          ],
          "name": "stdout"
        }
      ]
    },
    {
      "cell_type": "code",
      "metadata": {
        "id": "BgMsIl8vN2xY",
        "colab_type": "code",
        "outputId": "c6d65785-c28b-4cca-d831-3b369fb302d5",
        "colab": {
          "base_uri": "https://localhost:8080/",
          "height": 400
        }
      },
      "source": [
        "# check descriptive stats for Non-Numeric features; get KeyError: 'unique' if don't Transpose \n",
        "X_train.describe(exclude = 'number').T.sort_values(by = 'unique')"
      ],
      "execution_count": 0,
      "outputs": [
        {
          "output_type": "execute_result",
          "data": {
            "text/html": [
              "<div>\n",
              "<style scoped>\n",
              "    .dataframe tbody tr th:only-of-type {\n",
              "        vertical-align: middle;\n",
              "    }\n",
              "\n",
              "    .dataframe tbody tr th {\n",
              "        vertical-align: top;\n",
              "    }\n",
              "\n",
              "    .dataframe thead th {\n",
              "        text-align: right;\n",
              "    }\n",
              "</style>\n",
              "<table border=\"1\" class=\"dataframe\">\n",
              "  <thead>\n",
              "    <tr style=\"text-align: right;\">\n",
              "      <th></th>\n",
              "      <th>count</th>\n",
              "      <th>unique</th>\n",
              "      <th>top</th>\n",
              "      <th>freq</th>\n",
              "    </tr>\n",
              "  </thead>\n",
              "  <tbody>\n",
              "    <tr>\n",
              "      <th>State</th>\n",
              "      <td>51906</td>\n",
              "      <td>1</td>\n",
              "      <td>IL</td>\n",
              "      <td>51906</td>\n",
              "    </tr>\n",
              "    <tr>\n",
              "      <th>Risk</th>\n",
              "      <td>51904</td>\n",
              "      <td>3</td>\n",
              "      <td>Risk 1 (High)</td>\n",
              "      <td>37731</td>\n",
              "    </tr>\n",
              "    <tr>\n",
              "      <th>City</th>\n",
              "      <td>51863</td>\n",
              "      <td>39</td>\n",
              "      <td>CHICAGO</td>\n",
              "      <td>51659</td>\n",
              "    </tr>\n",
              "    <tr>\n",
              "      <th>Inspection Type</th>\n",
              "      <td>51915</td>\n",
              "      <td>51</td>\n",
              "      <td>Canvass</td>\n",
              "      <td>24170</td>\n",
              "    </tr>\n",
              "    <tr>\n",
              "      <th>Facility Type</th>\n",
              "      <td>51692</td>\n",
              "      <td>329</td>\n",
              "      <td>Restaurant</td>\n",
              "      <td>34264</td>\n",
              "    </tr>\n",
              "    <tr>\n",
              "      <th>Inspection Date</th>\n",
              "      <td>51916</td>\n",
              "      <td>2257</td>\n",
              "      <td>2017-03-23T00:00:00</td>\n",
              "      <td>50</td>\n",
              "    </tr>\n",
              "    <tr>\n",
              "      <th>Location</th>\n",
              "      <td>51718</td>\n",
              "      <td>13410</td>\n",
              "      <td>{'longitude': '-87.91442843927047', 'latitude'...</td>\n",
              "      <td>741</td>\n",
              "    </tr>\n",
              "    <tr>\n",
              "      <th>Address</th>\n",
              "      <td>51916</td>\n",
              "      <td>13954</td>\n",
              "      <td>11601 W TOUHY AVE</td>\n",
              "      <td>741</td>\n",
              "    </tr>\n",
              "    <tr>\n",
              "      <th>DBA Name</th>\n",
              "      <td>51916</td>\n",
              "      <td>17049</td>\n",
              "      <td>SUBWAY</td>\n",
              "      <td>654</td>\n",
              "    </tr>\n",
              "    <tr>\n",
              "      <th>Violations</th>\n",
              "      <td>42261</td>\n",
              "      <td>42164</td>\n",
              "      <td>45. FOOD HANDLER REQUIREMENTS MET - Comments: ...</td>\n",
              "      <td>3</td>\n",
              "    </tr>\n",
              "  </tbody>\n",
              "</table>\n",
              "</div>"
            ],
            "text/plain": [
              "                 count  ...   freq\n",
              "State            51906  ...  51906\n",
              "Risk             51904  ...  37731\n",
              "City             51863  ...  51659\n",
              "Inspection Type  51915  ...  24170\n",
              "Facility Type    51692  ...  34264\n",
              "Inspection Date  51916  ...     50\n",
              "Location         51718  ...    741\n",
              "Address          51916  ...    741\n",
              "DBA Name         51916  ...    654\n",
              "Violations       42261  ...      3\n",
              "\n",
              "[10 rows x 4 columns]"
            ]
          },
          "metadata": {
            "tags": []
          },
          "execution_count": 15
        }
      ]
    },
    {
      "cell_type": "markdown",
      "metadata": {
        "id": "d6IzX1gq_y2f",
        "colab_type": "text"
      },
      "source": [
        "### **Calculate Baseline Accuracy**- for Classification problems, this is the Majority Class or most often occuring (= mode) class, aka Category/target/label.  From the barplot above, we see it is **'Passed' (0); occuring ~74% of the time**. "
      ]
    },
    {
      "cell_type": "code",
      "metadata": {
        "id": "wgIk5DVqBeAD",
        "colab_type": "code",
        "outputId": "01324084-58f5-49e3-a342-0e0aa5fb3f09",
        "colab": {
          "base_uri": "https://localhost:8080/",
          "height": 69
        }
      },
      "source": [
        "# get Baseline mode of target 'Fail'\n",
        "y_train.value_counts(normalize = True)"
      ],
      "execution_count": 0,
      "outputs": [
        {
          "output_type": "execute_result",
          "data": {
            "text/plain": [
              "0    0.74139\n",
              "1    0.25861\n",
              "Name: Fail, dtype: float64"
            ]
          },
          "metadata": {
            "tags": []
          },
          "execution_count": 16
        }
      ]
    },
    {
      "cell_type": "markdown",
      "metadata": {
        "id": "eBpFKQzmh0RK",
        "colab_type": "text"
      },
      "source": [
        "Convert dates to datetime format for accessibility/computation"
      ]
    },
    {
      "cell_type": "code",
      "metadata": {
        "id": "_XlYuX-N3Kq2",
        "colab_type": "code",
        "colab": {}
      },
      "source": [
        "train['Inspection Date'] = pd.to_datetime(train['Inspection Date'])\n",
        "train['Inspection Year'] = train['Inspection Date'].dt.year\n",
        "train['Inspection Month'] = train['Inspection Date'].dt.month\n",
        "train['Inspection Day'] = train['Inspection Date'].dt.day"
      ],
      "execution_count": 0,
      "outputs": []
    },
    {
      "cell_type": "code",
      "metadata": {
        "id": "EWZPoIi74omB",
        "colab_type": "code",
        "colab": {}
      },
      "source": [
        "test['Inspection Date'] = pd.to_datetime(test['Inspection Date'])\n",
        "test['Inspection Year'] = test['Inspection Date'].dt.year\n",
        "test['Inspection Month'] = test['Inspection Date'].dt.month\n",
        "test['Inspection Day'] = test['Inspection Date'].dt.day"
      ],
      "execution_count": 0,
      "outputs": []
    },
    {
      "cell_type": "code",
      "metadata": {
        "id": "0SAFObM-FrUs",
        "colab_type": "code",
        "outputId": "75f9ec48-c81b-4ea2-ad85-56286f2d3b98",
        "colab": {
          "base_uri": "https://localhost:8080/",
          "height": 1000
        }
      },
      "source": [
        "test"
      ],
      "execution_count": 0,
      "outputs": [
        {
          "output_type": "execute_result",
          "data": {
            "text/html": [
              "<div>\n",
              "<style scoped>\n",
              "    .dataframe tbody tr th:only-of-type {\n",
              "        vertical-align: middle;\n",
              "    }\n",
              "\n",
              "    .dataframe tbody tr th {\n",
              "        vertical-align: top;\n",
              "    }\n",
              "\n",
              "    .dataframe thead th {\n",
              "        text-align: right;\n",
              "    }\n",
              "</style>\n",
              "<table border=\"1\" class=\"dataframe\">\n",
              "  <thead>\n",
              "    <tr style=\"text-align: right;\">\n",
              "      <th></th>\n",
              "      <th>Inspection ID</th>\n",
              "      <th>DBA Name</th>\n",
              "      <th>AKA Name</th>\n",
              "      <th>License #</th>\n",
              "      <th>Facility Type</th>\n",
              "      <th>Risk</th>\n",
              "      <th>Address</th>\n",
              "      <th>City</th>\n",
              "      <th>State</th>\n",
              "      <th>Zip</th>\n",
              "      <th>Inspection Date</th>\n",
              "      <th>Inspection Type</th>\n",
              "      <th>Violations</th>\n",
              "      <th>Latitude</th>\n",
              "      <th>Longitude</th>\n",
              "      <th>Location</th>\n",
              "      <th>Fail</th>\n",
              "      <th>Inspection Year</th>\n",
              "      <th>Inspection Month</th>\n",
              "      <th>Inspection Day</th>\n",
              "    </tr>\n",
              "  </thead>\n",
              "  <tbody>\n",
              "    <tr>\n",
              "      <th>0</th>\n",
              "      <td>114835</td>\n",
              "      <td>7 - ELEVEN</td>\n",
              "      <td>7 - ELEVEN</td>\n",
              "      <td>46907.0</td>\n",
              "      <td>Grocery Store</td>\n",
              "      <td>Risk 2 (Medium)</td>\n",
              "      <td>600 S DEARBORN</td>\n",
              "      <td>CHICAGO</td>\n",
              "      <td>IL</td>\n",
              "      <td>60605.0</td>\n",
              "      <td>2011-03-22</td>\n",
              "      <td>Canvass</td>\n",
              "      <td>33. FOOD AND NON-FOOD CONTACT EQUIPMENT UTENSI...</td>\n",
              "      <td>41.874481</td>\n",
              "      <td>-87.629357</td>\n",
              "      <td>{'longitude': '-87.62935653990546', 'latitude'...</td>\n",
              "      <td>0</td>\n",
              "      <td>2011</td>\n",
              "      <td>3</td>\n",
              "      <td>22</td>\n",
              "    </tr>\n",
              "    <tr>\n",
              "      <th>1</th>\n",
              "      <td>1575555</td>\n",
              "      <td>TAQUERIA LOS GALLOS INC</td>\n",
              "      <td>TAQUERIA LOS GALLOS</td>\n",
              "      <td>1044860.0</td>\n",
              "      <td>Restaurant</td>\n",
              "      <td>Risk 1 (High)</td>\n",
              "      <td>4209-4211 W 26TH ST</td>\n",
              "      <td>CHICAGO</td>\n",
              "      <td>IL</td>\n",
              "      <td>60623.0</td>\n",
              "      <td>2015-09-15</td>\n",
              "      <td>Canvass</td>\n",
              "      <td>30. FOOD IN ORIGINAL CONTAINER, PROPERLY LABEL...</td>\n",
              "      <td>41.844070</td>\n",
              "      <td>-87.729807</td>\n",
              "      <td>{'longitude': '-87.72980747367433', 'latitude'...</td>\n",
              "      <td>0</td>\n",
              "      <td>2015</td>\n",
              "      <td>9</td>\n",
              "      <td>15</td>\n",
              "    </tr>\n",
              "    <tr>\n",
              "      <th>2</th>\n",
              "      <td>671061</td>\n",
              "      <td>TROTTER'S TO GO</td>\n",
              "      <td>TROTTER'S TO GO</td>\n",
              "      <td>1092634.0</td>\n",
              "      <td>Restaurant</td>\n",
              "      <td>Risk 1 (High)</td>\n",
              "      <td>1337 W FULLERTON AVE</td>\n",
              "      <td>CHICAGO</td>\n",
              "      <td>IL</td>\n",
              "      <td>60614.0</td>\n",
              "      <td>2012-03-02</td>\n",
              "      <td>Canvass</td>\n",
              "      <td>34. FLOORS: CONSTRUCTED PER CODE, CLEANED, GOO...</td>\n",
              "      <td>41.925128</td>\n",
              "      <td>-87.662041</td>\n",
              "      <td>{'longitude': '-87.66204067083224', 'latitude'...</td>\n",
              "      <td>0</td>\n",
              "      <td>2012</td>\n",
              "      <td>3</td>\n",
              "      <td>2</td>\n",
              "    </tr>\n",
              "    <tr>\n",
              "      <th>3</th>\n",
              "      <td>1965844</td>\n",
              "      <td>BIG G'S PIZZA</td>\n",
              "      <td>BIG G'S PIZZA</td>\n",
              "      <td>2334691.0</td>\n",
              "      <td>Restaurant</td>\n",
              "      <td>Risk 1 (High)</td>\n",
              "      <td>1132 W TAYLOR ST</td>\n",
              "      <td>CHICAGO</td>\n",
              "      <td>IL</td>\n",
              "      <td>60607.0</td>\n",
              "      <td>2016-10-04</td>\n",
              "      <td>Canvass Re-Inspection</td>\n",
              "      <td>14. PREVIOUS SERIOUS VIOLATION CORRECTED, 7-42...</td>\n",
              "      <td>41.869546</td>\n",
              "      <td>-87.655501</td>\n",
              "      <td>{'longitude': '-87.65550098867566', 'latitude'...</td>\n",
              "      <td>1</td>\n",
              "      <td>2016</td>\n",
              "      <td>10</td>\n",
              "      <td>4</td>\n",
              "    </tr>\n",
              "    <tr>\n",
              "      <th>4</th>\n",
              "      <td>1751669</td>\n",
              "      <td>SOUTH CENTRAL COMMUNITY SERVICES ELEMENTARY</td>\n",
              "      <td>SOUTH CENTRAL COMMUNITY SERVICES ELEMENTARY</td>\n",
              "      <td>3491970.0</td>\n",
              "      <td>School</td>\n",
              "      <td>Risk 2 (Medium)</td>\n",
              "      <td>1021 E 83RD</td>\n",
              "      <td>CHICAGO</td>\n",
              "      <td>IL</td>\n",
              "      <td>60619.0</td>\n",
              "      <td>2016-04-08</td>\n",
              "      <td>Canvass</td>\n",
              "      <td>18. NO EVIDENCE OF RODENT OR INSECT OUTER OPEN...</td>\n",
              "      <td>41.743933</td>\n",
              "      <td>-87.599291</td>\n",
              "      <td>{'longitude': '-87.59929083361996', 'latitude'...</td>\n",
              "      <td>1</td>\n",
              "      <td>2016</td>\n",
              "      <td>4</td>\n",
              "      <td>8</td>\n",
              "    </tr>\n",
              "    <tr>\n",
              "      <th>...</th>\n",
              "      <td>...</td>\n",
              "      <td>...</td>\n",
              "      <td>...</td>\n",
              "      <td>...</td>\n",
              "      <td>...</td>\n",
              "      <td>...</td>\n",
              "      <td>...</td>\n",
              "      <td>...</td>\n",
              "      <td>...</td>\n",
              "      <td>...</td>\n",
              "      <td>...</td>\n",
              "      <td>...</td>\n",
              "      <td>...</td>\n",
              "      <td>...</td>\n",
              "      <td>...</td>\n",
              "      <td>...</td>\n",
              "      <td>...</td>\n",
              "      <td>...</td>\n",
              "      <td>...</td>\n",
              "      <td>...</td>\n",
              "    </tr>\n",
              "    <tr>\n",
              "      <th>17301</th>\n",
              "      <td>1325282</td>\n",
              "      <td>DUWELL FISH INC. #2</td>\n",
              "      <td>DUWELL FISH INC. #2</td>\n",
              "      <td>1914029.0</td>\n",
              "      <td>Grocery Store</td>\n",
              "      <td>Risk 2 (Medium)</td>\n",
              "      <td>617 S PULASKI RD</td>\n",
              "      <td>CHICAGO</td>\n",
              "      <td>IL</td>\n",
              "      <td>60624.0</td>\n",
              "      <td>2014-10-28</td>\n",
              "      <td>Canvass Re-Inspection</td>\n",
              "      <td>34. FLOORS: CONSTRUCTED PER CODE, CLEANED, GOO...</td>\n",
              "      <td>41.872973</td>\n",
              "      <td>-87.725258</td>\n",
              "      <td>{'longitude': '-87.72525817066807', 'latitude'...</td>\n",
              "      <td>0</td>\n",
              "      <td>2014</td>\n",
              "      <td>10</td>\n",
              "      <td>28</td>\n",
              "    </tr>\n",
              "    <tr>\n",
              "      <th>17302</th>\n",
              "      <td>2200402</td>\n",
              "      <td>POTBELLY SANDWICH WORKS # 102</td>\n",
              "      <td>POTBELLY SANDWICH WORKS</td>\n",
              "      <td>2431697.0</td>\n",
              "      <td>Restaurant</td>\n",
              "      <td>Risk 1 (High)</td>\n",
              "      <td>5426-5428 S LAKE PARK AVE</td>\n",
              "      <td>CHICAGO</td>\n",
              "      <td>IL</td>\n",
              "      <td>60615.0</td>\n",
              "      <td>2018-08-01</td>\n",
              "      <td>Canvass</td>\n",
              "      <td>2. CITY OF CHICAGO FOOD SERVICE SANITATION CER...</td>\n",
              "      <td>41.797255</td>\n",
              "      <td>-87.587409</td>\n",
              "      <td>{'longitude': '-87.58740929887074', 'latitude'...</td>\n",
              "      <td>1</td>\n",
              "      <td>2018</td>\n",
              "      <td>8</td>\n",
              "      <td>1</td>\n",
              "    </tr>\n",
              "    <tr>\n",
              "      <th>17303</th>\n",
              "      <td>80338</td>\n",
              "      <td>THE RAIL BAR &amp; GRILL</td>\n",
              "      <td>THE RAIL BAR &amp; GRILL</td>\n",
              "      <td>1873345.0</td>\n",
              "      <td>Restaurant</td>\n",
              "      <td>Risk 1 (High)</td>\n",
              "      <td>4707-4709 N DAMEN AVE</td>\n",
              "      <td>CHICAGO</td>\n",
              "      <td>IL</td>\n",
              "      <td>60625.0</td>\n",
              "      <td>2010-06-25</td>\n",
              "      <td>Tag Removal</td>\n",
              "      <td>30. FOOD IN ORIGINAL CONTAINER, PROPERLY LABEL...</td>\n",
              "      <td>41.967144</td>\n",
              "      <td>-87.678993</td>\n",
              "      <td>{'longitude': '-87.67899332559362', 'latitude'...</td>\n",
              "      <td>0</td>\n",
              "      <td>2010</td>\n",
              "      <td>6</td>\n",
              "      <td>25</td>\n",
              "    </tr>\n",
              "    <tr>\n",
              "      <th>17304</th>\n",
              "      <td>1229608</td>\n",
              "      <td>LOLLY POP NURSERY SCHOOL INC</td>\n",
              "      <td>LOLLY POP NURSERY SCHOOL INC</td>\n",
              "      <td>6436.0</td>\n",
              "      <td>Daycare Above and Under 2 Years</td>\n",
              "      <td>Risk 1 (High)</td>\n",
              "      <td>9308 S ASHLAND AVE</td>\n",
              "      <td>CHICAGO</td>\n",
              "      <td>IL</td>\n",
              "      <td>60620.0</td>\n",
              "      <td>2012-06-13</td>\n",
              "      <td>License Re-Inspection</td>\n",
              "      <td>32. FOOD AND NON-FOOD CONTACT SURFACES PROPERL...</td>\n",
              "      <td>41.724545</td>\n",
              "      <td>-87.662906</td>\n",
              "      <td>{'longitude': '-87.662905550724', 'latitude': ...</td>\n",
              "      <td>0</td>\n",
              "      <td>2012</td>\n",
              "      <td>6</td>\n",
              "      <td>13</td>\n",
              "    </tr>\n",
              "    <tr>\n",
              "      <th>17305</th>\n",
              "      <td>277731</td>\n",
              "      <td>MCDONALD'S</td>\n",
              "      <td>MCDONALD'S</td>\n",
              "      <td>1718785.0</td>\n",
              "      <td>Restaurant</td>\n",
              "      <td>Risk 2 (Medium)</td>\n",
              "      <td>8321 S ASHLAND AVE</td>\n",
              "      <td>CHICAGO</td>\n",
              "      <td>IL</td>\n",
              "      <td>60620.0</td>\n",
              "      <td>2010-07-27</td>\n",
              "      <td>Complaint Re-Inspection</td>\n",
              "      <td>33. FOOD AND NON-FOOD CONTACT EQUIPMENT UTENSI...</td>\n",
              "      <td>41.742421</td>\n",
              "      <td>-87.663091</td>\n",
              "      <td>{'longitude': '-87.6630911433338', 'latitude':...</td>\n",
              "      <td>0</td>\n",
              "      <td>2010</td>\n",
              "      <td>7</td>\n",
              "      <td>27</td>\n",
              "    </tr>\n",
              "  </tbody>\n",
              "</table>\n",
              "<p>17306 rows × 20 columns</p>\n",
              "</div>"
            ],
            "text/plain": [
              "       Inspection ID  ... Inspection Day\n",
              "0             114835  ...             22\n",
              "1            1575555  ...             15\n",
              "2             671061  ...              2\n",
              "3            1965844  ...              4\n",
              "4            1751669  ...              8\n",
              "...              ...  ...            ...\n",
              "17301        1325282  ...             28\n",
              "17302        2200402  ...              1\n",
              "17303          80338  ...             25\n",
              "17304        1229608  ...             13\n",
              "17305         277731  ...             27\n",
              "\n",
              "[17306 rows x 20 columns]"
            ]
          },
          "metadata": {
            "tags": []
          },
          "execution_count": 19
        }
      ]
    },
    {
      "cell_type": "markdown",
      "metadata": {
        "colab_type": "text",
        "id": "nB8CQnExGqzr"
      },
      "source": [
        "## Part 2: Modeling\n",
        "\n",
        "> **Fit a model** with the train set. (You may use scikit-learn, xgboost, or any other library.) Use cross-validation or do a three-way split (train/validate/test) and **estimate your ROC AUC** validation score.\n",
        ">\n",
        "> Use your model to **predict probabilities** for the test set. **Get an ROC AUC test score >= 0.60.**"
      ]
    },
    {
      "cell_type": "code",
      "metadata": {
        "colab_type": "code",
        "id": "YQ3hD2G1IbVH",
        "outputId": "3f95e347-f949-4493-9d4f-c48a9d4a57bb",
        "colab": {
          "base_uri": "https://localhost:8080/",
          "height": 52
        }
      },
      "source": [
        "import category_encoders as ce\n",
        "from sklearn.model_selection import train_test_split, cross_val_score, StratifiedKFold\n",
        "from sklearn.pipeline import make_pipeline\n",
        "from sklearn.impute import SimpleImputer\n",
        "from sklearn.metrics import roc_auc_score\n",
        "from sklearn.ensemble import RandomForestClassifier \n",
        "\n",
        "target = 'Fail'\n",
        "features = ['Latitude', 'Longitude'] # perhaps a vendor's location is significantly predictive of Inspection Fail status\n",
        "\n",
        "pipeline = make_pipeline(\n",
        "    ce.OrdinalEncoder(),  # automatically imputes mode for string features/columns with Nulls(?)\n",
        "    SimpleImputer(strategy='most_frequent'),\n",
        "    RandomForestClassifier(n_estimators = 150,\n",
        "                           class_weight = 'balanced',\n",
        "                           max_depth = 50,\n",
        "                           n_jobs = -1)\n",
        ")\n",
        "\n",
        "# Instantiate \n",
        "skf = StratifiedKFold(n_splits=3) # set Cross-Val parameter\n",
        "\n",
        "# (Instantiate?) Validation metrics\n",
        "acc_scores = []\n",
        "roc_auc_scores = []\n",
        "\n",
        "for train_index, test_index in skf.split(X_train, y_train):\n",
        "  X_train = train.drop(columns = target)\n",
        "  X_train = train.loc[train_index, features]  #train_index? =? loc rows by index corresponding to indicated features/cols\n",
        "\n",
        "  y_train = train.loc[train_index, target]\n",
        "\n",
        "  pipeline.fit(X_train, y_train)\n",
        "\n",
        "  X_test = train.loc[test_index, features]\n",
        "  y_test = train.loc[test_index, target]\n",
        "  acc_scores.append(pipeline.score(X_test, y_test))\n",
        "\n",
        "  roc_auc_scores.append(roc_auc_score(y_test, pipeline.predict(X_test)))\n",
        "\n",
        "print(\"ROC AUC scores\", roc_auc_scores)\n",
        "print(\"Accuracy scores\", acc_scores)"
      ],
      "execution_count": 0,
      "outputs": [
        {
          "output_type": "stream",
          "text": [
            "ROC AUC scores [0.5290249478120774, 0.5253018632134009, 0.524376700906134]\n",
            "Accuracy scores [0.615509071998151, 0.6111528459982664, 0.6116151401329095]\n"
          ],
          "name": "stdout"
        }
      ]
    },
    {
      "cell_type": "markdown",
      "metadata": {
        "id": "8_s-iqH9SuEl",
        "colab_type": "text"
      },
      "source": [
        "### Alternative metrics and syntax for calculating and print Validation Scores:\n",
        "\n",
        "1) print('Validation Accuracy', pipeline.score(X_test, y_test)) \n",
        "\n",
        "2) print('Mean cross val score', cross_val_score(pipeline, X_test, y_test).mean())\n",
        "\n",
        "3) print(cross_val_score(pipeline, X_train[features], y_train, cv = 5, scoring = 'roc_auc'))\n",
        "\n",
        "4) print('ROC AUC Score', roc_auc_score(y_test, pipeline.predict(X_test)))"
      ]
    },
    {
      "cell_type": "markdown",
      "metadata": {
        "id": "f_WUWhXtUNb4",
        "colab_type": "text"
      },
      "source": [
        "**For the following Pipeline 1:**\n",
        "pipeline = make_pipeline(\n",
        "    ce.OrdinalEncoder(),  # automatically imputes mode for string features/columns with Nulls(?)\n",
        "    SimpleImputer(strategy='most_frequent'),\n",
        "    RandomForestClassifier(max_depth=3)\n",
        ")\n",
        "\n",
        "**We get Output 1:**\n",
        "\n",
        "ROC AUC scores [0.5, 0.5, 0.5]\n",
        "\n",
        "Accuracy scores [0.7413613775569167, 0.7414042184339786, 0.7414042184339786]\n",
        "\n",
        "The low (< .60) ROC AUC scores indicate that together, 'Latitude' & 'Longitude' were not highly predictive features.\n",
        "\n",
        "I'll try hyperparameter tuning of the RandomForestClassifier model first."
      ]
    },
    {
      "cell_type": "markdown",
      "metadata": {
        "id": "S9Zzct1lZtal",
        "colab_type": "text"
      },
      "source": [
        "**For the following Pipeline 2:**\n",
        "\n",
        "pipeline = make_pipeline(\n",
        "    ce.OrdinalEncoder(),  # automatically imputes mode for string features/columns with Nulls(?)\n",
        "    SimpleImputer(strategy='most_frequent'),\n",
        "    RandomForestClassifier(n_estimators = 100,\n",
        "                           class_weight = 'balanced',\n",
        "                           max_depth = 3,\n",
        "                           n_jobs = -1)\n",
        "\n",
        "**We get Output 2:**\n",
        "\n",
        "ROC AUC scores [0.5367240191971273, 0.5337981491529398, 0.5312787226061809]\n",
        "\n",
        "Accuracy scores [0.4839212966975817, 0.42992112334229005, 0.4578313253012048]\n",
        "\n",
        "Slightly better, closer to but still < .60 ROC AUC scores.\n",
        "\n",
        "I'll try hyperparameter tuning of the RandomForestClassifier model once more."
      ]
    },
    {
      "cell_type": "markdown",
      "metadata": {
        "id": "5tM3-76xa5Fz",
        "colab_type": "text"
      },
      "source": [
        "**For the following Pipeline 3:**\n",
        "\n",
        "pipeline = make_pipeline(\n",
        "    ce.OrdinalEncoder(),  # automatically imputes mode for string features/columns with Nulls(?)\n",
        "    SimpleImputer(strategy='most_frequent'),\n",
        "    RandomForestClassifier(n_estimators = 150,\n",
        "                           class_weight = 'balanced',\n",
        "                           max_depth = 50,\n",
        "                           n_jobs = -1)\n",
        ")\n",
        "\n",
        "**We get Output 3:**\n",
        "\n",
        "ROC AUC scores [0.5160644506291542, 0.5186304400615169, 0.5232352021330752]\n",
        "\n",
        "Accuracy scores [0.6322152886115444, 0.6204654791314523, 0.6339877779222468]\n",
        "\n",
        "Slightly WORSE now, further from and still < .60 ROC AUC scores.\n",
        "\n",
        "I'll try (a) different feature(s)."
      ]
    },
    {
      "cell_type": "markdown",
      "metadata": {
        "id": "EK-AmzP9XnFJ",
        "colab_type": "text"
      },
      "source": [
        "Consider 'Violations' again, for its weight or significance as an important (predictive) feature correlated with Inspection Failure. As previously noted: \"The more/more serious violations a store has, the more likely it seems to reason- it would or could 'fail' an inspection.\""
      ]
    },
    {
      "cell_type": "code",
      "metadata": {
        "id": "APRd-a4OWNEo",
        "colab_type": "code",
        "outputId": "c8c4b1bb-bea6-4453-c722-c6beab7cac84",
        "colab": {
          "base_uri": "https://localhost:8080/",
          "height": 407
        }
      },
      "source": [
        "X_train"
      ],
      "execution_count": 0,
      "outputs": [
        {
          "output_type": "execute_result",
          "data": {
            "text/html": [
              "<div>\n",
              "<style scoped>\n",
              "    .dataframe tbody tr th:only-of-type {\n",
              "        vertical-align: middle;\n",
              "    }\n",
              "\n",
              "    .dataframe tbody tr th {\n",
              "        vertical-align: top;\n",
              "    }\n",
              "\n",
              "    .dataframe thead th {\n",
              "        text-align: right;\n",
              "    }\n",
              "</style>\n",
              "<table border=\"1\" class=\"dataframe\">\n",
              "  <thead>\n",
              "    <tr style=\"text-align: right;\">\n",
              "      <th></th>\n",
              "      <th>Latitude</th>\n",
              "      <th>Longitude</th>\n",
              "    </tr>\n",
              "  </thead>\n",
              "  <tbody>\n",
              "    <tr>\n",
              "      <th>0</th>\n",
              "      <td>41.938007</td>\n",
              "      <td>-87.644755</td>\n",
              "    </tr>\n",
              "    <tr>\n",
              "      <th>1</th>\n",
              "      <td>41.772402</td>\n",
              "      <td>-87.683603</td>\n",
              "    </tr>\n",
              "    <tr>\n",
              "      <th>2</th>\n",
              "      <td>41.758779</td>\n",
              "      <td>-87.575054</td>\n",
              "    </tr>\n",
              "    <tr>\n",
              "      <th>3</th>\n",
              "      <td>41.812181</td>\n",
              "      <td>-87.707125</td>\n",
              "    </tr>\n",
              "    <tr>\n",
              "      <th>4</th>\n",
              "      <td>NaN</td>\n",
              "      <td>NaN</td>\n",
              "    </tr>\n",
              "    <tr>\n",
              "      <th>...</th>\n",
              "      <td>...</td>\n",
              "      <td>...</td>\n",
              "    </tr>\n",
              "    <tr>\n",
              "      <th>34617</th>\n",
              "      <td>41.966797</td>\n",
              "      <td>-87.767299</td>\n",
              "    </tr>\n",
              "    <tr>\n",
              "      <th>34618</th>\n",
              "      <td>41.892292</td>\n",
              "      <td>-87.606782</td>\n",
              "    </tr>\n",
              "    <tr>\n",
              "      <th>34619</th>\n",
              "      <td>41.766384</td>\n",
              "      <td>-87.572694</td>\n",
              "    </tr>\n",
              "    <tr>\n",
              "      <th>34620</th>\n",
              "      <td>41.887434</td>\n",
              "      <td>-87.681849</td>\n",
              "    </tr>\n",
              "    <tr>\n",
              "      <th>34621</th>\n",
              "      <td>42.008536</td>\n",
              "      <td>-87.914428</td>\n",
              "    </tr>\n",
              "  </tbody>\n",
              "</table>\n",
              "<p>34611 rows × 2 columns</p>\n",
              "</div>"
            ],
            "text/plain": [
              "        Latitude  Longitude\n",
              "0      41.938007 -87.644755\n",
              "1      41.772402 -87.683603\n",
              "2      41.758779 -87.575054\n",
              "3      41.812181 -87.707125\n",
              "4            NaN        NaN\n",
              "...          ...        ...\n",
              "34617  41.966797 -87.767299\n",
              "34618  41.892292 -87.606782\n",
              "34619  41.766384 -87.572694\n",
              "34620  41.887434 -87.681849\n",
              "34621  42.008536 -87.914428\n",
              "\n",
              "[34611 rows x 2 columns]"
            ]
          },
          "metadata": {
            "tags": []
          },
          "execution_count": 21
        }
      ]
    },
    {
      "cell_type": "code",
      "metadata": {
        "id": "XNIPxsGOWYUF",
        "colab_type": "code",
        "outputId": "553d93d9-fe5f-4d35-a8f9-ec47851662ec",
        "colab": {
          "base_uri": "https://localhost:8080/",
          "height": 1000
        }
      },
      "source": [
        "'''\n",
        " Reset X_train in order to then change features to include features/columns from X_train that we want to examine\n",
        " for its/their predictive relevance\n",
        " '''\n",
        "X_train = train.drop(columns = target)\n",
        "X_train"
      ],
      "execution_count": 0,
      "outputs": [
        {
          "output_type": "execute_result",
          "data": {
            "text/html": [
              "<div>\n",
              "<style scoped>\n",
              "    .dataframe tbody tr th:only-of-type {\n",
              "        vertical-align: middle;\n",
              "    }\n",
              "\n",
              "    .dataframe tbody tr th {\n",
              "        vertical-align: top;\n",
              "    }\n",
              "\n",
              "    .dataframe thead th {\n",
              "        text-align: right;\n",
              "    }\n",
              "</style>\n",
              "<table border=\"1\" class=\"dataframe\">\n",
              "  <thead>\n",
              "    <tr style=\"text-align: right;\">\n",
              "      <th></th>\n",
              "      <th>Inspection ID</th>\n",
              "      <th>DBA Name</th>\n",
              "      <th>License #</th>\n",
              "      <th>Facility Type</th>\n",
              "      <th>Risk</th>\n",
              "      <th>Address</th>\n",
              "      <th>City</th>\n",
              "      <th>State</th>\n",
              "      <th>Zip</th>\n",
              "      <th>Inspection Date</th>\n",
              "      <th>Inspection Type</th>\n",
              "      <th>Violations</th>\n",
              "      <th>Latitude</th>\n",
              "      <th>Longitude</th>\n",
              "      <th>Location</th>\n",
              "      <th>Inspection Year</th>\n",
              "      <th>Inspection Month</th>\n",
              "      <th>Inspection Day</th>\n",
              "    </tr>\n",
              "  </thead>\n",
              "  <tbody>\n",
              "    <tr>\n",
              "      <th>0</th>\n",
              "      <td>2088270</td>\n",
              "      <td>TOM YUM RICE &amp; NOODLE, INC.</td>\n",
              "      <td>2354911.0</td>\n",
              "      <td>Restaurant</td>\n",
              "      <td>Risk 1 (High)</td>\n",
              "      <td>608 W BARRY</td>\n",
              "      <td>CHICAGO</td>\n",
              "      <td>IL</td>\n",
              "      <td>60657.0</td>\n",
              "      <td>2017-09-15</td>\n",
              "      <td>Canvass</td>\n",
              "      <td>3. POTENTIALLY HAZARDOUS FOOD MEETS TEMPERATUR...</td>\n",
              "      <td>41.938007</td>\n",
              "      <td>-87.644755</td>\n",
              "      <td>{'longitude': '-87.6447545707008', 'latitude':...</td>\n",
              "      <td>2017</td>\n",
              "      <td>9</td>\n",
              "      <td>15</td>\n",
              "    </tr>\n",
              "    <tr>\n",
              "      <th>1</th>\n",
              "      <td>555268</td>\n",
              "      <td>FILLING STATION  &amp; CONVENIENCE  STORE</td>\n",
              "      <td>1044901.0</td>\n",
              "      <td>Grocery Store</td>\n",
              "      <td>Risk 3 (Low)</td>\n",
              "      <td>6646-6658 S WESTERN AVE</td>\n",
              "      <td>CHICAGO</td>\n",
              "      <td>IL</td>\n",
              "      <td>60636.0</td>\n",
              "      <td>2011-10-20</td>\n",
              "      <td>Complaint Re-Inspection</td>\n",
              "      <td>32. FOOD AND NON-FOOD CONTACT SURFACES PROPERL...</td>\n",
              "      <td>41.772402</td>\n",
              "      <td>-87.683603</td>\n",
              "      <td>{'longitude': '-87.68360273081268', 'latitude'...</td>\n",
              "      <td>2011</td>\n",
              "      <td>10</td>\n",
              "      <td>20</td>\n",
              "    </tr>\n",
              "    <tr>\n",
              "      <th>2</th>\n",
              "      <td>1751394</td>\n",
              "      <td>A P DELI</td>\n",
              "      <td>47405.0</td>\n",
              "      <td>Restaurant</td>\n",
              "      <td>Risk 1 (High)</td>\n",
              "      <td>2025 E 75TH ST</td>\n",
              "      <td>CHICAGO</td>\n",
              "      <td>IL</td>\n",
              "      <td>60649.0</td>\n",
              "      <td>2016-04-05</td>\n",
              "      <td>Canvass Re-Inspection</td>\n",
              "      <td>35. WALLS, CEILINGS, ATTACHED EQUIPMENT CONSTR...</td>\n",
              "      <td>41.758779</td>\n",
              "      <td>-87.575054</td>\n",
              "      <td>{'longitude': '-87.57505446746121', 'latitude'...</td>\n",
              "      <td>2016</td>\n",
              "      <td>4</td>\n",
              "      <td>5</td>\n",
              "    </tr>\n",
              "    <tr>\n",
              "      <th>3</th>\n",
              "      <td>1763905</td>\n",
              "      <td>FRANK'S CHICAGO SHRIMP HOUSE</td>\n",
              "      <td>6414.0</td>\n",
              "      <td>Restaurant</td>\n",
              "      <td>Risk 2 (Medium)</td>\n",
              "      <td>4459 S ARCHER AVE</td>\n",
              "      <td>CHICAGO</td>\n",
              "      <td>IL</td>\n",
              "      <td>60632.0</td>\n",
              "      <td>2016-04-29</td>\n",
              "      <td>Canvass</td>\n",
              "      <td>38. VENTILATION: ROOMS AND EQUIPMENT VENTED AS...</td>\n",
              "      <td>41.812181</td>\n",
              "      <td>-87.707125</td>\n",
              "      <td>{'longitude': '-87.70712481334274', 'latitude'...</td>\n",
              "      <td>2016</td>\n",
              "      <td>4</td>\n",
              "      <td>29</td>\n",
              "    </tr>\n",
              "    <tr>\n",
              "      <th>4</th>\n",
              "      <td>453326</td>\n",
              "      <td>MORRILL</td>\n",
              "      <td>24571.0</td>\n",
              "      <td>School</td>\n",
              "      <td>Risk 1 (High)</td>\n",
              "      <td>6011 S Rockwell (2600W) AVE</td>\n",
              "      <td>CHICAGO</td>\n",
              "      <td>IL</td>\n",
              "      <td>60629.0</td>\n",
              "      <td>2011-01-10</td>\n",
              "      <td>Canvass</td>\n",
              "      <td>34. FLOORS: CONSTRUCTED PER CODE, CLEANED, GOO...</td>\n",
              "      <td>NaN</td>\n",
              "      <td>NaN</td>\n",
              "      <td>NaN</td>\n",
              "      <td>2011</td>\n",
              "      <td>1</td>\n",
              "      <td>10</td>\n",
              "    </tr>\n",
              "    <tr>\n",
              "      <th>...</th>\n",
              "      <td>...</td>\n",
              "      <td>...</td>\n",
              "      <td>...</td>\n",
              "      <td>...</td>\n",
              "      <td>...</td>\n",
              "      <td>...</td>\n",
              "      <td>...</td>\n",
              "      <td>...</td>\n",
              "      <td>...</td>\n",
              "      <td>...</td>\n",
              "      <td>...</td>\n",
              "      <td>...</td>\n",
              "      <td>...</td>\n",
              "      <td>...</td>\n",
              "      <td>...</td>\n",
              "      <td>...</td>\n",
              "      <td>...</td>\n",
              "      <td>...</td>\n",
              "    </tr>\n",
              "    <tr>\n",
              "      <th>51911</th>\n",
              "      <td>1370030</td>\n",
              "      <td>VANILLE PATTISSERIE</td>\n",
              "      <td>2129404.0</td>\n",
              "      <td>Grocery Store</td>\n",
              "      <td>Risk 2 (Medium)</td>\n",
              "      <td>131 N CLINTON ST</td>\n",
              "      <td>CHICAGO</td>\n",
              "      <td>IL</td>\n",
              "      <td>60661.0</td>\n",
              "      <td>2013-10-29</td>\n",
              "      <td>Canvass</td>\n",
              "      <td>NaN</td>\n",
              "      <td>41.884188</td>\n",
              "      <td>-87.641120</td>\n",
              "      <td>{'longitude': '-87.64111966683218', 'latitude'...</td>\n",
              "      <td>2013</td>\n",
              "      <td>10</td>\n",
              "      <td>29</td>\n",
              "    </tr>\n",
              "    <tr>\n",
              "      <th>51912</th>\n",
              "      <td>579387</td>\n",
              "      <td>CHICAGO STEAK HOUSE</td>\n",
              "      <td>2079910.0</td>\n",
              "      <td>Restaurant</td>\n",
              "      <td>Risk 2 (Medium)</td>\n",
              "      <td>219 E 47TH ST</td>\n",
              "      <td>CHICAGO</td>\n",
              "      <td>IL</td>\n",
              "      <td>60653.0</td>\n",
              "      <td>2011-02-25</td>\n",
              "      <td>License Re-Inspection</td>\n",
              "      <td>NaN</td>\n",
              "      <td>41.809214</td>\n",
              "      <td>-87.620308</td>\n",
              "      <td>{'longitude': '-87.62030817634384', 'latitude'...</td>\n",
              "      <td>2011</td>\n",
              "      <td>2</td>\n",
              "      <td>25</td>\n",
              "    </tr>\n",
              "    <tr>\n",
              "      <th>51913</th>\n",
              "      <td>2169678</td>\n",
              "      <td>JEWEL FOOD STORE #3043</td>\n",
              "      <td>1144384.0</td>\n",
              "      <td>Grocery Store</td>\n",
              "      <td>Risk 1 (High)</td>\n",
              "      <td>443 E 34TH ST</td>\n",
              "      <td>CHICAGO</td>\n",
              "      <td>IL</td>\n",
              "      <td>60616.0</td>\n",
              "      <td>2018-05-14</td>\n",
              "      <td>Canvass Re-Inspection</td>\n",
              "      <td>33. FOOD AND NON-FOOD CONTACT EQUIPMENT UTENSI...</td>\n",
              "      <td>41.833045</td>\n",
              "      <td>-87.614611</td>\n",
              "      <td>{'longitude': '-87.61461136443168', 'latitude'...</td>\n",
              "      <td>2018</td>\n",
              "      <td>5</td>\n",
              "      <td>14</td>\n",
              "    </tr>\n",
              "    <tr>\n",
              "      <th>51914</th>\n",
              "      <td>1588969</td>\n",
              "      <td>RESTAURANTE SALVADORENO OLOCUILTA INC.</td>\n",
              "      <td>2308079.0</td>\n",
              "      <td>Restaurant</td>\n",
              "      <td>Risk 1 (High)</td>\n",
              "      <td>3040 N LARAMIE AVE</td>\n",
              "      <td>CHICAGO</td>\n",
              "      <td>IL</td>\n",
              "      <td>60641.0</td>\n",
              "      <td>2015-11-30</td>\n",
              "      <td>Canvass Re-Inspection</td>\n",
              "      <td>NaN</td>\n",
              "      <td>41.936300</td>\n",
              "      <td>-87.756750</td>\n",
              "      <td>{'longitude': '-87.75674980489909', 'latitude'...</td>\n",
              "      <td>2015</td>\n",
              "      <td>11</td>\n",
              "      <td>30</td>\n",
              "    </tr>\n",
              "    <tr>\n",
              "      <th>51915</th>\n",
              "      <td>114560</td>\n",
              "      <td>BURRITO BEACH # 8</td>\n",
              "      <td>1491413.0</td>\n",
              "      <td>Restaurant</td>\n",
              "      <td>Risk 1 (High)</td>\n",
              "      <td>200 E OHIO ST</td>\n",
              "      <td>CHICAGO</td>\n",
              "      <td>IL</td>\n",
              "      <td>60611.0</td>\n",
              "      <td>2010-09-29</td>\n",
              "      <td>Canvass</td>\n",
              "      <td>33. FOOD AND NON-FOOD CONTACT EQUIPMENT UTENSI...</td>\n",
              "      <td>41.892671</td>\n",
              "      <td>-87.622572</td>\n",
              "      <td>{'longitude': '-87.62257220248128', 'latitude'...</td>\n",
              "      <td>2010</td>\n",
              "      <td>9</td>\n",
              "      <td>29</td>\n",
              "    </tr>\n",
              "  </tbody>\n",
              "</table>\n",
              "<p>51916 rows × 18 columns</p>\n",
              "</div>"
            ],
            "text/plain": [
              "       Inspection ID  ... Inspection Day\n",
              "0            2088270  ...             15\n",
              "1             555268  ...             20\n",
              "2            1751394  ...              5\n",
              "3            1763905  ...             29\n",
              "4             453326  ...             10\n",
              "...              ...  ...            ...\n",
              "51911        1370030  ...             29\n",
              "51912         579387  ...             25\n",
              "51913        2169678  ...             14\n",
              "51914        1588969  ...             30\n",
              "51915         114560  ...             29\n",
              "\n",
              "[51916 rows x 18 columns]"
            ]
          },
          "metadata": {
            "tags": []
          },
          "execution_count": 22
        }
      ]
    },
    {
      "cell_type": "code",
      "metadata": {
        "id": "PwG10X8sVfK_",
        "colab_type": "code",
        "outputId": "99dc54a4-d65e-4168-b9d6-08efd875c051",
        "colab": {
          "base_uri": "https://localhost:8080/",
          "height": 245
        }
      },
      "source": [
        "# Peruse metadata for 'Violations'\n",
        "'''\n",
        "The following notes seem to indicate OPEN/ONGOING inspection.. If so, this could be a source for \"time travel\" data leakage from Test dataset to Train (?)\n",
        "\"MUST PROVIDE\" ... \"REPAIR SAME\"... \"NO FOOD HANDLER TRAINING IN ILLINOIS CERTIFICATES AT THIS TIME OF INSPECTION...\"\n",
        "'''\n",
        "X_train['Violations'].value_counts()"
      ],
      "execution_count": 0,
      "outputs": [
        {
          "output_type": "execute_result",
          "data": {
            "text/plain": [
              "45. FOOD HANDLER REQUIREMENTS MET - Comments: ALL FOOD HANDLING EMPLOYEES MUST SHOW PROOF OF FOOD HANDLER TRAINING.  MUST PROVIDE.                                                                                                                                                                                                                                                                                                                                                                                                                                                                                                                                                                                                                                                                                                                                                                                                                                                                                                                                                                                                                                                                                                                                                                                                                                                                                                                                                                                                                                                                                                                                                                                                                                                                                                                                              3\n",
              "45. FOOD HANDLER REQUIREMENTS MET - Comments: FOUND FOODHANDLERS AT PREMISES WITH NO FOODHANDLER CERTIFICATES. MUST PROVIDE.                                                                                                                                                                                                                                                                                                                                                                                                                                                                                                                                                                                                                                                                                                                                                                                                                                                                                                                                                                                                                                                                                                                                                                                                                                                                                                                                                                                                                                                                                                                                                                                                                                                                                                                                                    3\n",
              "33. FOOD AND NON-FOOD CONTACT EQUIPMENT UTENSILS CLEAN, FREE OF ABRASIVE DETERGENTS - Comments: DETAIL CLEAN THE INTERIOR OF THE ICE MACHINE.                                                                                                                                                                                                                                                                                                                                                                                                                                                                                                                                                                                                                                                                                                                                                                                                                                                                                                                                                                                                                                                                                                                                                                                                                                                                                                                                                                                                                                                                                                                                                                                                                                                                                                                                   3\n",
              "45. FOOD HANDLER REQUIREMENTS MET - Comments: FOOD HANDLER (S) WITH NO PROOF OF FOOD HANDLER TRAINING. INSTRUCTED TO PROVIDE. INFORMATION GIVEN.                                                                                                                                                                                                                                                                                                                                                                                                                                                                                                                                                                                                                                                                                                                                                                                                                                                                                                                                                                                                                                                                                                                                                                                                                                                                                                                                                                                                                                                                                                                                                                                                                                                                                                                                3\n",
              "38. VENTILATION: ROOMS AND EQUIPMENT VENTED AS REQUIRED: PLUMBING: INSTALLED AND MAINTAINED - Comments: 3-COMPARTMENT SINK FAUCET LEAKING. REPAIR SAME.                                                                                                                                                                                                                                                                                                                                                                                                                                                                                                                                                                                                                                                                                                                                                                                                                                                                                                                                                                                                                                                                                                                                                                                                                                                                                                                                                                                                                                                                                                                                                                                                                                                                                                                         3\n",
              "                                                                                                                                                                                                                                                                                                                                                                                                                                                                                                                                                                                                                                                                                                                                                                                                                                                                                                                                                                                                                                                                                                                                                                                                                                                                                                                                                                                                                                                                                                                                                                                                                                                                                                                                                                                                                                                                               ..\n",
              "35. WALLS, CEILINGS, ATTACHED EQUIPMENT CONSTRUCTED PER CODE: GOOD REPAIR, SURFACES CLEAN AND DUST-LESS CLEANING METHODS - Comments: REMOVE DUSTS ACCUMULATIONS ON FAN BLADES IN CUSTOMER SEATING AREAS AND VENTILATION COVER INSIDE THE EMPLOYEES TOILET ROOM AND MAINTAIN.   | 38. VENTILATION: ROOMS AND EQUIPMENT VENTED AS REQUIRED: PLUMBING: INSTALLED AND MAINTAINED - Comments: NO BACKFLOW PREVENTION DEVICE AT ICE MACHINE AND COFFEE EXPRESSO UNIT.INSTRUCTED TO PROVIDE AND MAINTAIN VISIBLE.                                                                                                                                                                                                                                                                                                                                                                                                                                                                                                                                                                                                                                                                                                                                                                                                                                                                                                                                                                                                                                                                                                                                                                                                                                                                                                                                                                      1\n",
              "11. ADEQUATE NUMBER, CONVENIENT, ACCESSIBLE, DESIGNED, AND MAINTAINED - Comments: EXPOSED HANDWASHING SINKS NOT INSTALLED WITH HOT AND COLD RUNNING WATER IN AREA WHERE FOOD WILL BE PLATED AND SERVED TO GUESTS, BEVERAGES SERVED OR UTENSILS WASHED; MUST INSTALL. CRITICAL VIOLATION 7-38-030. | 18. NO EVIDENCE OF RODENT OR INSECT OUTER OPENINGS PROTECTED/RODENT PROOFED, A WRITTEN LOG SHALL BE MAINTAINED AVAILABLE TO THE INSPECTORS - Comments: VARIOUS DOORS AND OVERHEAD DOORS ARE NOT RODENT PROOFED AS REQUIRED; ALL DOORS MUST BE RODENT PROOFED; TIGHT FITTING AT THE BOTTOM AND SIDES.  MUST PROVIDE A LOG BOOK FROM A LICENSED PEST CONTROL COMPANY. SERIOUS VIOLATION 7-38-020. | 34. FLOORS: CONSTRUCTED PER CODE, CLEANED, GOOD REPAIR, COVING INSTALLED, DUST-LESS CLEANING METHODS USED - Comments: FLOORS THROUGH OUT ARE MADE OF CONCRETE; MUST BE SMOOTH AND EASILY CLEANABLE IN FOOD/DRINK PREP, STORAGE AND SERVICE AREAS AND IN WASHROOMS. | 35. WALLS, CEILINGS, ATTACHED EQUIPMENT CONSTRUCTED PER CODE: GOOD REPAIR, SURFACES CLEAN AND DUST-LESS CLEANING METHODS - Comments: VARIOUS WALLS ARE NOT FINISHED; DRY WALL OBSERVED.  ALL WALLS MUST BE FINISHED, SMOOTH AND EASILY CLEANABLE.  MUST PROVIDE WALL COVING AT BOTTOM OF WALLS WHERE NEEDED. | 38. VENTILATION: ROOMS AND EQUIPMENT VENTED AS REQUIRED: PLUMBING: INSTALLED AND MAINTAINED - Comments: MUST INSTALL A MOP SINK WITH HOT AND COLD RUNNING WATER.  MUST ATTACH GREASE RECEPTOR ON PREMISES TO THREE COMP SINK. | 41. PREMISES MAINTAINED FREE OF LITTER, UNNECESSARY ARTICLES, CLEANING  EQUIPMENT PROPERLY STORED - Comments: MUST REMOVE UNNECESSARY CLUTTER FROM PREMISES. | 70. NO SMOKING REGULATIONS - Comments: 'NO SMOKING' SIGNS NOT POSTED. MUST POST SIGNS AT ENTRANCES AND ALL AREAS WHERE SMOKING IS PROHIBITED. CLEAN INDOOR AIR ORDINANCE 7-32-020A.    1\n",
              "32. FOOD AND NON-FOOD CONTACT SURFACES PROPERLY DESIGNED, CONSTRUCTED AND MAINTAINED - Comments: MUST REMOVE PEELING PAINT FROM WALLS AND CEILINGS IN THE IST FLOOR BOYS AND GIRLS WASHROOMS AND REPAINT AREAS. MUST REMOVE RUST FROM 3RD STALL DIVIDER IN 2ND FLOOR BOYS WASHROOM AND REPAINT OR REPLACE.    | 38. VENTILATION: ROOMS AND EQUIPMENT VENTED AS REQUIRED: PLUMBING: INSTALLED AND MAINTAINED - Comments: MUST REPAIR LEAKY FAUCET AT MOP SINKS ON THE 2ND AND 3RD FLOORS. ALSO REPAIR LEAKY FAUCET AT THE THREE COMPARTMENT SINK.                                                                                                                                                                                                                                                                                                                                                                                                                                                                                                                                                                                                                                                                                                                                                                                                                                                                                                                                                                                                                                                                                                                                                                                                                                                                                                                                1\n",
              "33. FOOD AND NON-FOOD CONTACT EQUIPMENT UTENSILS CLEAN, FREE OF ABRASIVE DETERGENTS - Comments: INSTRUCTED FACILITY TO CLEAN, SANITIZE, AND MAINTAIN THE ICE MACHINE AT THE FRONT COUNTER. | 34. FLOORS: CONSTRUCTED PER CODE, CLEANED, GOOD REPAIR, COVING INSTALLED, DUST-LESS CLEANING METHODS USED - Comments: OBSERVED DIRT ACCUMULATION ON THE FLOOR UNDER AND AROUND THE THREE COMPARTMENT SINK. INSTRUCTED FACILITY TO CLEAN AND MAINTAIN. | 45. FOOD HANDLER REQUIREMENTS MET - Comments: OUT OF COMPLIANCE. INFORMATION GIVEN, INSTRUCTED TO COMPLY AND MAINTAIN.                                                                                                                                                                                                                                                                                                                                                                                                                                                                                                                                                                                                                                                                                                                                                                                                                                                                                                                                                                                                                                                                                                                                                                                                                                                                                                     1\n",
              "32. FOOD AND NON-FOOD CONTACT SURFACES PROPERLY DESIGNED, CONSTRUCTED AND MAINTAINED - Comments: OBSERVED RUSTY STORAGE TABLE IN REAR STORAGE AREA, INSTRUCTED TO REMOVE RUST, OR REPLACE TABLE. | 33. FOOD AND NON-FOOD CONTACT EQUIPMENT UTENSILS CLEAN, FREE OF ABRASIVE DETERGENTS - Comments: OBSERVED THE FOLLOWING NOT CLEAN CUTTING BOARDS IN COOKING/PREP AREA, AND REAR PREP AREA #10 CAN OPENER, INSTRUCTED TO CLEAN AND SANITIZE. | 34. FLOORS: CONSTRUCTED PER CODE, CLEANED, GOOD REPAIR, COVING INSTALLED, DUST-LESS CLEANING METHODS USED - Comments: OBSERVED REAR FLOORS IN PREP/COOKING AREA, AND REAR DISH ROOM NOT CLEAN, INSTRUCTED TO CLEAN FLOORS UNDER AND AROUND ALL EQUIPMENT/STORAGE. | 45. FOOD HANDLER REQUIREMENTS MET - Comments: OBSERVED NO FOOD HANDLER CERTIFICATES ON PREMISES AT THIS TIME, INSTRUCTED TO PROVIDE. GIVEN COPY OF IDPH'S FOOD HANDLER INFO. AT THIS TIME.                                                                                                                                                                                                                                                                                                                                                                                                                                                                                                                                                                                                                                                                                                                                                                                                                                                                                                                                                                  1\n",
              "Name: Violations, Length: 42164, dtype: int64"
            ]
          },
          "metadata": {
            "tags": []
          },
          "execution_count": 23
        }
      ]
    },
    {
      "cell_type": "code",
      "metadata": {
        "id": "eyQNziDzfGSo",
        "colab_type": "code",
        "outputId": "fb0e60aa-dd8a-4c12-f4a7-748abd2155df",
        "colab": {
          "base_uri": "https://localhost:8080/",
          "height": 124
        }
      },
      "source": [
        "# Drop 'Violations' and refit and re-score model: get SyntaxError: positional argument follows keyword argument for X_train = train.drop(columns = target, 'Violations')\n",
        "X_train = train.columns.drop(['Fail', 'Violations'])\n",
        "X_train"
      ],
      "execution_count": 0,
      "outputs": [
        {
          "output_type": "execute_result",
          "data": {
            "text/plain": [
              "Index(['Inspection ID', 'DBA Name', 'License #', 'Facility Type', 'Risk',\n",
              "       'Address', 'City', 'State', 'Zip', 'Inspection Date', 'Inspection Type',\n",
              "       'Latitude', 'Longitude', 'Location', 'Inspection Year',\n",
              "       'Inspection Month', 'Inspection Day'],\n",
              "      dtype='object')"
            ]
          },
          "metadata": {
            "tags": []
          },
          "execution_count": 24
        }
      ]
    },
    {
      "cell_type": "code",
      "metadata": {
        "id": "SaWlLRxUhDqH",
        "colab_type": "code",
        "outputId": "13278765-bc2b-41db-8701-e0866b1d0d08",
        "colab": {
          "base_uri": "https://localhost:8080/",
          "height": 55
        }
      },
      "source": [
        "'''\n",
        "features = ['Latitude', 'Longitude'] # perhaps a vendor's location is significantly predictive of Inspection Fail status WITH 'Violations' REMOVED?\n",
        "\n",
        "pipeline = make_pipeline(\n",
        "    ce.OrdinalEncoder(),  # automatically imputes mode for string features/columns with Nulls(?)\n",
        "    SimpleImputer(strategy='most_frequent'),\n",
        "    RandomForestClassifier(n_estimators = 150,\n",
        "                           class_weight = 'balanced',\n",
        "                           max_depth = 50,\n",
        "                           n_jobs = -1)\n",
        ")\n",
        "\n",
        "X_train = train.loc[train_index, features]  #train_index? =? loc rows by index corresponding to indicated features/cols\n",
        "\n",
        "y_train = train.loc[train_index, target]\n",
        "\n",
        "pipeline.fit(X_train, y_train)\n",
        "\n",
        "X_test = train.loc[test_index, features]\n",
        "y_test = train.loc[test_index, target]\n",
        "acc_scores.append(pipeline.score(X_test, y_test))\n",
        "\n",
        "roc_auc_scores.append(roc_auc_score(y_test, pipeline.predict(X_test)))\n",
        "\n",
        "print(\"ROC AUC scores\", roc_auc_scores)\n",
        "print(\"Accuracy scores\", acc_scores)\n",
        "'''"
      ],
      "execution_count": 0,
      "outputs": [
        {
          "output_type": "execute_result",
          "data": {
            "text/plain": [
              "'\\nfeatures = [\\'Latitude\\', \\'Longitude\\'] # perhaps a vendor\\'s location is significantly predictive of Inspection Fail status WITH \\'Violations\\' REMOVED?\\n\\npipeline = make_pipeline(\\n    ce.OrdinalEncoder(),  # automatically imputes mode for string features/columns with Nulls(?)\\n    SimpleImputer(strategy=\\'most_frequent\\'),\\n    RandomForestClassifier(n_estimators = 150,\\n                           class_weight = \\'balanced\\',\\n                           max_depth = 50,\\n                           n_jobs = -1)\\n)\\n\\nX_train = train.loc[train_index, features]  #train_index? =? loc rows by index corresponding to indicated features/cols\\n\\ny_train = train.loc[train_index, target]\\n\\npipeline.fit(X_train, y_train)\\n\\nX_test = train.loc[test_index, features]\\ny_test = train.loc[test_index, target]\\nacc_scores.append(pipeline.score(X_test, y_test))\\n\\nroc_auc_scores.append(roc_auc_score(y_test, pipeline.predict(X_test)))\\n\\nprint(\"ROC AUC scores\", roc_auc_scores)\\nprint(\"Accuracy scores\", acc_scores)\\n'"
            ]
          },
          "metadata": {
            "tags": []
          },
          "execution_count": 25
        }
      ]
    },
    {
      "cell_type": "markdown",
      "metadata": {
        "id": "GHEBDCCuiTYM",
        "colab_type": "text"
      },
      "source": [
        "Vendor Location EVEN WITH 'Violations' dropped, is still too low: See commented out above cell [54]\n",
        "\n",
        "ROC AUC scores [0.5160644506291542, 0.5186304400615169, 0.5232352021330752, 0.5225460073412261, 0.5236790367305396]\n",
        "\n",
        "Accuracy scores [0.6322152886115444, 0.6204654791314523, 0.6339877779222468, 0.633207645299701, 0.633207645299701]"
      ]
    },
    {
      "cell_type": "markdown",
      "metadata": {
        "id": "e-le5c6Di0XM",
        "colab_type": "text"
      },
      "source": [
        "### Remove 'Violations' from X_train, and pick different features to refit model and score model performance with"
      ]
    },
    {
      "cell_type": "code",
      "metadata": {
        "id": "9f2T8HwSjRSF",
        "colab_type": "code",
        "outputId": "42afc212-d4d5-4e70-a23e-327ba57edd54",
        "colab": {
          "base_uri": "https://localhost:8080/",
          "height": 72
        }
      },
      "source": [
        "features = ['Inspection Type', 'Facility Type', 'Location'] # perhaps a vendor's location is significantly predictive of Inspection Fail status WITH 'Violations' REMOVED?\n",
        "\n",
        "pipeline = make_pipeline(\n",
        "    ce.OrdinalEncoder(),  # automatically imputes mode for string features/columns with Nulls(?)\n",
        "    SimpleImputer(strategy='most_frequent'),\n",
        "    RandomForestClassifier(n_estimators = 150,\n",
        "                           class_weight = 'balanced',\n",
        "                           max_depth = 50,\n",
        "                           n_jobs = -1)\n",
        ")\n",
        "\n",
        "X_train = train.loc[train_index, features]  #train_index? =? loc rows by index corresponding to indicated features/cols\n",
        "\n",
        "y_train = train.loc[train_index, target]\n",
        "\n",
        "pipeline.fit(X_train, y_train)\n",
        "\n",
        "X_test = train.loc[test_index, features]\n",
        "y_test = train.loc[test_index, target]\n",
        "acc_scores.append(pipeline.score(X_test, y_test))\n",
        "\n",
        "roc_auc_scores.append(roc_auc_score(y_test, pipeline.predict(X_test)))\n",
        "\n",
        "print(\"ROC AUC scores\", roc_auc_scores)\n",
        "print(\"Accuracy scores\", acc_scores)"
      ],
      "execution_count": 0,
      "outputs": [
        {
          "output_type": "stream",
          "text": [
            "ROC AUC scores [0.5290249478120774, 0.5253018632134009, 0.524376700906134, 0.5674320834984347]\n",
            "Accuracy scores [0.615509071998151, 0.6111528459982664, 0.6116151401329095, 0.6558220167581624]\n"
          ],
          "name": "stdout"
        }
      ]
    },
    {
      "cell_type": "markdown",
      "metadata": {
        "id": "hmyPi4e_kDyt",
        "colab_type": "text"
      },
      "source": [
        "With features ='Inspection Type' and 'Violations' having been removed, get identical scores as with 'Latitude' & 'Longitude', SO SOMETHING IS REMISS...!"
      ]
    },
    {
      "cell_type": "markdown",
      "metadata": {
        "id": "p_gOZFn8k3sI",
        "colab_type": "text"
      },
      "source": [
        "TRY features = ['Inspection Type', 'Facility Type'].. still get same results, TRY XGBOOST"
      ]
    },
    {
      "cell_type": "markdown",
      "metadata": {
        "colab_type": "text",
        "id": "u98nLGBTMo9s"
      },
      "source": [
        "## Part 3: Visualization\n",
        "\n",
        "> Make visualizations for model interpretation. (You may use any libraries.) Choose two of these types:\n",
        ">\n",
        "> - Permutation Importances\n",
        "> - Partial Dependence Plot, 1 feature isolation\n",
        "> - Partial Dependence Plot, 2 features interaction\n",
        "> - Shapley Values"
      ]
    },
    {
      "cell_type": "code",
      "metadata": {
        "id": "RyHOmwNPYBSP",
        "colab_type": "code",
        "outputId": "d7734f1f-26df-4059-9965-31803077786c",
        "colab": {
          "base_uri": "https://localhost:8080/",
          "height": 235
        }
      },
      "source": [
        "# reset X_Train\n",
        "X_train = train.columns.drop(['Fail'])\n",
        "\n",
        "# Get feature importances\n",
        "rf = pipeline.named_steps['randomforestclassifier']\n",
        "importances = pd.Series(rf.feature_importances_, X_train.columns)\n",
        "\n",
        "# Plot feature importances\n",
        "%matplotlib inline\n",
        "import matplotlib.pyplot as plt\n",
        "\n",
        "n = 20\n",
        "plt.figure(figsize=(10,n/2))\n",
        "plt.title(f'Top {n} features')\n",
        "importances.sort_values()[-n:].plot.barh(color='green');"
      ],
      "execution_count": 0,
      "outputs": [
        {
          "output_type": "error",
          "ename": "AttributeError",
          "evalue": "ignored",
          "traceback": [
            "\u001b[0;31m---------------------------------------------------------------------------\u001b[0m",
            "\u001b[0;31mAttributeError\u001b[0m                            Traceback (most recent call last)",
            "\u001b[0;32m<ipython-input-30-5cf4bd62041e>\u001b[0m in \u001b[0;36m<module>\u001b[0;34m()\u001b[0m\n\u001b[1;32m      3\u001b[0m \u001b[0;31m# Get feature importances\u001b[0m\u001b[0;34m\u001b[0m\u001b[0;34m\u001b[0m\u001b[0;34m\u001b[0m\u001b[0m\n\u001b[1;32m      4\u001b[0m \u001b[0mrf\u001b[0m \u001b[0;34m=\u001b[0m \u001b[0mpipeline\u001b[0m\u001b[0;34m.\u001b[0m\u001b[0mnamed_steps\u001b[0m\u001b[0;34m[\u001b[0m\u001b[0;34m'randomforestclassifier'\u001b[0m\u001b[0;34m]\u001b[0m\u001b[0;34m\u001b[0m\u001b[0;34m\u001b[0m\u001b[0m\n\u001b[0;32m----> 5\u001b[0;31m \u001b[0mimportances\u001b[0m \u001b[0;34m=\u001b[0m \u001b[0mpd\u001b[0m\u001b[0;34m.\u001b[0m\u001b[0mSeries\u001b[0m\u001b[0;34m(\u001b[0m\u001b[0mrf\u001b[0m\u001b[0;34m.\u001b[0m\u001b[0mfeature_importances_\u001b[0m\u001b[0;34m,\u001b[0m \u001b[0mX_train\u001b[0m\u001b[0;34m.\u001b[0m\u001b[0mcolumns\u001b[0m\u001b[0;34m)\u001b[0m\u001b[0;34m\u001b[0m\u001b[0;34m\u001b[0m\u001b[0m\n\u001b[0m\u001b[1;32m      6\u001b[0m \u001b[0;34m\u001b[0m\u001b[0m\n\u001b[1;32m      7\u001b[0m \u001b[0;31m# Plot feature importances\u001b[0m\u001b[0;34m\u001b[0m\u001b[0;34m\u001b[0m\u001b[0;34m\u001b[0m\u001b[0m\n",
            "\u001b[0;31mAttributeError\u001b[0m: 'Index' object has no attribute 'columns'"
          ]
        }
      ]
    }
  ]
}